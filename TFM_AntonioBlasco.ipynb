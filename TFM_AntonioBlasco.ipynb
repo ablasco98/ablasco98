{
  "nbformat": 4,
  "nbformat_minor": 0,
  "metadata": {
    "colab": {
      "name": "TFM_AntonioBlasco.ipynb",
      "provenance": [],
      "collapsed_sections": []
    },
    "kernelspec": {
      "name": "python3",
      "display_name": "Python 3"
    },
    "language_info": {
      "name": "python"
    }
  },
  "cells": [
    {
      "cell_type": "markdown",
      "metadata": {
        "id": "M_5hNsHIMCA6"
      },
      "source": [
        "# Trabajo Fin de Máster\n",
        "## Antonio Blasco Navarro\n",
        "\n",
        "#Propagación y predicción de la COVID-19"
      ]
    },
    {
      "cell_type": "markdown",
      "metadata": {
        "id": "oB9pqLD3Vudg"
      },
      "source": [
        "Este archivo cuenta con todo el código necesario para conseguir los objetivos planteados del TFM. Se quiere conseguir:\n",
        "\n",
        "*   Clusterizar zonas básicas de Salud\n",
        "*   Crear un modelo capaz de predecir casos de COVID-19\n",
        "\n",
        "Para ello, lo primero es crear el DataFrame final con el que se va a realizar el estudio.\n",
        "\n"
      ]
    },
    {
      "cell_type": "markdown",
      "metadata": {
        "id": "Xm46gBiOWSYV"
      },
      "source": [
        "## Creación del DataFrame"
      ]
    },
    {
      "cell_type": "markdown",
      "metadata": {
        "id": "ayUb9W_nSkiu"
      },
      "source": [
        "Tras haber creado la zona de estudio (Madrid.shp) y haber seleccionado todas las características necesarias en formato .geojson, se puede realizar el estudio de clustering y la modelización de casos COVID en cada zona. Para ello primeramente se tiene que crear el DataFrame final, es decir, contabilizar todas las características respecto todos los polígonos del archivo Madrid.shp."
      ]
    },
    {
      "cell_type": "markdown",
      "metadata": {
        "id": "43XrTOykTJit"
      },
      "source": [
        "Primeramente, se cargan las librerias necesarias para realizar el análisis."
      ]
    },
    {
      "cell_type": "code",
      "metadata": {
        "colab": {
          "base_uri": "https://localhost:8080/"
        },
        "id": "4jODM8tlNDm0",
        "outputId": "5f8fdbbc-45f1-4ae1-bbea-802e7ccbdba3"
      },
      "source": [
        "#Librerias necesarias\n",
        "\n",
        "#Geográficas\n",
        "\n",
        "!pip install geopandas\n",
        "!pip install descartes\n",
        "!pip install geojson\n",
        "\n",
        "import geopandas as gpd\n",
        "import geojson\n",
        "import fiona\n",
        "from shapely.geometry import Point\n",
        "\n",
        "from shapely.geometry.geo import asShape\n",
        "\n",
        "#DataFrame\n",
        "\n",
        "import pandas as pd\n",
        "import numpy as np\n",
        "\n",
        "#Clusters\n",
        "from sklearn.preprocessing import scale\n",
        "from sklearn.metrics import pairwise_distances\n",
        "import seaborn as sns\n",
        "from sklearn.cluster import KMeans\n",
        "from sklearn.metrics import silhouette_score\n",
        "\n",
        "#Pintar\n",
        "import matplotlib.pyplot as plt\n",
        "\n",
        "#Train-test\n",
        "from sklearn.model_selection import train_test_split\n",
        "\n",
        "#Modelo\n",
        "from sklearn.linear_model import Ridge\n",
        "from sklearn.pipeline import Pipeline\n",
        "from sklearn.preprocessing import StandardScaler\n",
        "from sklearn.compose import ColumnTransformer\n",
        "from sklearn.model_selection import cross_val_score\n",
        "from sklearn.model_selection import RepeatedKFold\n",
        "from sklearn.feature_selection import VarianceThreshold\n",
        "from sklearn.metrics import mean_squared_error\n",
        "import multiprocessing\n",
        "\n",
        "#Tipos de modelos e hiperparámetros\n",
        "from sklearn.model_selection import GridSearchCV\n",
        "from sklearn.linear_model import LinearRegression\n",
        "from sklearn.ensemble import RandomForestRegressor\n",
        "from sklearn.tree import DecisionTreeRegressor\n",
        "from sklearn.ensemble import GradientBoostingRegressor\n",
        "from sklearn import linear_model\n"
      ],
      "execution_count": null,
      "outputs": [
        {
          "output_type": "stream",
          "text": [
            "Collecting geopandas\n",
            "  Downloading geopandas-0.9.0-py2.py3-none-any.whl (994 kB)\n",
            "\u001b[?25l\r\u001b[K     |▎                               | 10 kB 21.5 MB/s eta 0:00:01\r\u001b[K     |▋                               | 20 kB 10.5 MB/s eta 0:00:01\r\u001b[K     |█                               | 30 kB 8.8 MB/s eta 0:00:01\r\u001b[K     |█▎                              | 40 kB 8.0 MB/s eta 0:00:01\r\u001b[K     |█▋                              | 51 kB 5.6 MB/s eta 0:00:01\r\u001b[K     |██                              | 61 kB 5.8 MB/s eta 0:00:01\r\u001b[K     |██▎                             | 71 kB 5.0 MB/s eta 0:00:01\r\u001b[K     |██▋                             | 81 kB 5.6 MB/s eta 0:00:01\r\u001b[K     |███                             | 92 kB 5.5 MB/s eta 0:00:01\r\u001b[K     |███▎                            | 102 kB 5.3 MB/s eta 0:00:01\r\u001b[K     |███▋                            | 112 kB 5.3 MB/s eta 0:00:01\r\u001b[K     |████                            | 122 kB 5.3 MB/s eta 0:00:01\r\u001b[K     |████▎                           | 133 kB 5.3 MB/s eta 0:00:01\r\u001b[K     |████▋                           | 143 kB 5.3 MB/s eta 0:00:01\r\u001b[K     |█████                           | 153 kB 5.3 MB/s eta 0:00:01\r\u001b[K     |█████▎                          | 163 kB 5.3 MB/s eta 0:00:01\r\u001b[K     |█████▋                          | 174 kB 5.3 MB/s eta 0:00:01\r\u001b[K     |██████                          | 184 kB 5.3 MB/s eta 0:00:01\r\u001b[K     |██████▎                         | 194 kB 5.3 MB/s eta 0:00:01\r\u001b[K     |██████▋                         | 204 kB 5.3 MB/s eta 0:00:01\r\u001b[K     |███████                         | 215 kB 5.3 MB/s eta 0:00:01\r\u001b[K     |███████▎                        | 225 kB 5.3 MB/s eta 0:00:01\r\u001b[K     |███████▋                        | 235 kB 5.3 MB/s eta 0:00:01\r\u001b[K     |████████                        | 245 kB 5.3 MB/s eta 0:00:01\r\u001b[K     |████████▎                       | 256 kB 5.3 MB/s eta 0:00:01\r\u001b[K     |████████▋                       | 266 kB 5.3 MB/s eta 0:00:01\r\u001b[K     |█████████                       | 276 kB 5.3 MB/s eta 0:00:01\r\u001b[K     |█████████▎                      | 286 kB 5.3 MB/s eta 0:00:01\r\u001b[K     |█████████▌                      | 296 kB 5.3 MB/s eta 0:00:01\r\u001b[K     |█████████▉                      | 307 kB 5.3 MB/s eta 0:00:01\r\u001b[K     |██████████▏                     | 317 kB 5.3 MB/s eta 0:00:01\r\u001b[K     |██████████▌                     | 327 kB 5.3 MB/s eta 0:00:01\r\u001b[K     |██████████▉                     | 337 kB 5.3 MB/s eta 0:00:01\r\u001b[K     |███████████▏                    | 348 kB 5.3 MB/s eta 0:00:01\r\u001b[K     |███████████▌                    | 358 kB 5.3 MB/s eta 0:00:01\r\u001b[K     |███████████▉                    | 368 kB 5.3 MB/s eta 0:00:01\r\u001b[K     |████████████▏                   | 378 kB 5.3 MB/s eta 0:00:01\r\u001b[K     |████████████▌                   | 389 kB 5.3 MB/s eta 0:00:01\r\u001b[K     |████████████▉                   | 399 kB 5.3 MB/s eta 0:00:01\r\u001b[K     |█████████████▏                  | 409 kB 5.3 MB/s eta 0:00:01\r\u001b[K     |█████████████▌                  | 419 kB 5.3 MB/s eta 0:00:01\r\u001b[K     |█████████████▉                  | 430 kB 5.3 MB/s eta 0:00:01\r\u001b[K     |██████████████▏                 | 440 kB 5.3 MB/s eta 0:00:01\r\u001b[K     |██████████████▌                 | 450 kB 5.3 MB/s eta 0:00:01\r\u001b[K     |██████████████▉                 | 460 kB 5.3 MB/s eta 0:00:01\r\u001b[K     |███████████████▏                | 471 kB 5.3 MB/s eta 0:00:01\r\u001b[K     |███████████████▌                | 481 kB 5.3 MB/s eta 0:00:01\r\u001b[K     |███████████████▉                | 491 kB 5.3 MB/s eta 0:00:01\r\u001b[K     |████████████████▏               | 501 kB 5.3 MB/s eta 0:00:01\r\u001b[K     |████████████████▌               | 512 kB 5.3 MB/s eta 0:00:01\r\u001b[K     |████████████████▉               | 522 kB 5.3 MB/s eta 0:00:01\r\u001b[K     |█████████████████▏              | 532 kB 5.3 MB/s eta 0:00:01\r\u001b[K     |█████████████████▌              | 542 kB 5.3 MB/s eta 0:00:01\r\u001b[K     |█████████████████▉              | 552 kB 5.3 MB/s eta 0:00:01\r\u001b[K     |██████████████████▏             | 563 kB 5.3 MB/s eta 0:00:01\r\u001b[K     |██████████████████▌             | 573 kB 5.3 MB/s eta 0:00:01\r\u001b[K     |██████████████████▊             | 583 kB 5.3 MB/s eta 0:00:01\r\u001b[K     |███████████████████             | 593 kB 5.3 MB/s eta 0:00:01\r\u001b[K     |███████████████████▍            | 604 kB 5.3 MB/s eta 0:00:01\r\u001b[K     |███████████████████▊            | 614 kB 5.3 MB/s eta 0:00:01\r\u001b[K     |████████████████████            | 624 kB 5.3 MB/s eta 0:00:01\r\u001b[K     |████████████████████▍           | 634 kB 5.3 MB/s eta 0:00:01\r\u001b[K     |████████████████████▊           | 645 kB 5.3 MB/s eta 0:00:01\r\u001b[K     |█████████████████████           | 655 kB 5.3 MB/s eta 0:00:01\r\u001b[K     |█████████████████████▍          | 665 kB 5.3 MB/s eta 0:00:01\r\u001b[K     |█████████████████████▊          | 675 kB 5.3 MB/s eta 0:00:01\r\u001b[K     |██████████████████████          | 686 kB 5.3 MB/s eta 0:00:01\r\u001b[K     |██████████████████████▍         | 696 kB 5.3 MB/s eta 0:00:01\r\u001b[K     |██████████████████████▊         | 706 kB 5.3 MB/s eta 0:00:01\r\u001b[K     |███████████████████████         | 716 kB 5.3 MB/s eta 0:00:01\r\u001b[K     |███████████████████████▍        | 727 kB 5.3 MB/s eta 0:00:01\r\u001b[K     |███████████████████████▊        | 737 kB 5.3 MB/s eta 0:00:01\r\u001b[K     |████████████████████████        | 747 kB 5.3 MB/s eta 0:00:01\r\u001b[K     |████████████████████████▍       | 757 kB 5.3 MB/s eta 0:00:01\r\u001b[K     |████████████████████████▊       | 768 kB 5.3 MB/s eta 0:00:01\r\u001b[K     |█████████████████████████       | 778 kB 5.3 MB/s eta 0:00:01\r\u001b[K     |█████████████████████████▍      | 788 kB 5.3 MB/s eta 0:00:01\r\u001b[K     |█████████████████████████▊      | 798 kB 5.3 MB/s eta 0:00:01\r\u001b[K     |██████████████████████████      | 808 kB 5.3 MB/s eta 0:00:01\r\u001b[K     |██████████████████████████▍     | 819 kB 5.3 MB/s eta 0:00:01\r\u001b[K     |██████████████████████████▊     | 829 kB 5.3 MB/s eta 0:00:01\r\u001b[K     |███████████████████████████     | 839 kB 5.3 MB/s eta 0:00:01\r\u001b[K     |███████████████████████████▍    | 849 kB 5.3 MB/s eta 0:00:01\r\u001b[K     |███████████████████████████▊    | 860 kB 5.3 MB/s eta 0:00:01\r\u001b[K     |████████████████████████████    | 870 kB 5.3 MB/s eta 0:00:01\r\u001b[K     |████████████████████████████▎   | 880 kB 5.3 MB/s eta 0:00:01\r\u001b[K     |████████████████████████████▋   | 890 kB 5.3 MB/s eta 0:00:01\r\u001b[K     |█████████████████████████████   | 901 kB 5.3 MB/s eta 0:00:01\r\u001b[K     |█████████████████████████████▎  | 911 kB 5.3 MB/s eta 0:00:01\r\u001b[K     |█████████████████████████████▋  | 921 kB 5.3 MB/s eta 0:00:01\r\u001b[K     |██████████████████████████████  | 931 kB 5.3 MB/s eta 0:00:01\r\u001b[K     |██████████████████████████████▎ | 942 kB 5.3 MB/s eta 0:00:01\r\u001b[K     |██████████████████████████████▋ | 952 kB 5.3 MB/s eta 0:00:01\r\u001b[K     |███████████████████████████████ | 962 kB 5.3 MB/s eta 0:00:01\r\u001b[K     |███████████████████████████████▎| 972 kB 5.3 MB/s eta 0:00:01\r\u001b[K     |███████████████████████████████▋| 983 kB 5.3 MB/s eta 0:00:01\r\u001b[K     |████████████████████████████████| 993 kB 5.3 MB/s eta 0:00:01\r\u001b[K     |████████████████████████████████| 994 kB 5.3 MB/s \n",
            "\u001b[?25hRequirement already satisfied: shapely>=1.6 in /usr/local/lib/python3.7/dist-packages (from geopandas) (1.7.1)\n",
            "Collecting fiona>=1.8\n",
            "  Downloading Fiona-1.8.20-cp37-cp37m-manylinux1_x86_64.whl (15.4 MB)\n",
            "\u001b[K     |████████████████████████████████| 15.4 MB 37 kB/s \n",
            "\u001b[?25hCollecting pyproj>=2.2.0\n",
            "  Downloading pyproj-3.1.0-cp37-cp37m-manylinux2010_x86_64.whl (6.6 MB)\n",
            "\u001b[K     |████████████████████████████████| 6.6 MB 36.8 MB/s \n",
            "\u001b[?25hRequirement already satisfied: pandas>=0.24.0 in /usr/local/lib/python3.7/dist-packages (from geopandas) (1.1.5)\n",
            "Requirement already satisfied: six>=1.7 in /usr/local/lib/python3.7/dist-packages (from fiona>=1.8->geopandas) (1.15.0)\n",
            "Requirement already satisfied: certifi in /usr/local/lib/python3.7/dist-packages (from fiona>=1.8->geopandas) (2021.5.30)\n",
            "Collecting munch\n",
            "  Downloading munch-2.5.0-py2.py3-none-any.whl (10 kB)\n",
            "Requirement already satisfied: setuptools in /usr/local/lib/python3.7/dist-packages (from fiona>=1.8->geopandas) (57.4.0)\n",
            "Collecting click-plugins>=1.0\n",
            "  Downloading click_plugins-1.1.1-py2.py3-none-any.whl (7.5 kB)\n",
            "Requirement already satisfied: attrs>=17 in /usr/local/lib/python3.7/dist-packages (from fiona>=1.8->geopandas) (21.2.0)\n",
            "Requirement already satisfied: click>=4.0 in /usr/local/lib/python3.7/dist-packages (from fiona>=1.8->geopandas) (7.1.2)\n",
            "Collecting cligj>=0.5\n",
            "  Downloading cligj-0.7.2-py3-none-any.whl (7.1 kB)\n",
            "Requirement already satisfied: python-dateutil>=2.7.3 in /usr/local/lib/python3.7/dist-packages (from pandas>=0.24.0->geopandas) (2.8.2)\n",
            "Requirement already satisfied: pytz>=2017.2 in /usr/local/lib/python3.7/dist-packages (from pandas>=0.24.0->geopandas) (2018.9)\n",
            "Requirement already satisfied: numpy>=1.15.4 in /usr/local/lib/python3.7/dist-packages (from pandas>=0.24.0->geopandas) (1.19.5)\n",
            "Installing collected packages: munch, cligj, click-plugins, pyproj, fiona, geopandas\n",
            "Successfully installed click-plugins-1.1.1 cligj-0.7.2 fiona-1.8.20 geopandas-0.9.0 munch-2.5.0 pyproj-3.1.0\n",
            "Requirement already satisfied: descartes in /usr/local/lib/python3.7/dist-packages (1.1.0)\n",
            "Requirement already satisfied: matplotlib in /usr/local/lib/python3.7/dist-packages (from descartes) (3.2.2)\n",
            "Requirement already satisfied: numpy>=1.11 in /usr/local/lib/python3.7/dist-packages (from matplotlib->descartes) (1.19.5)\n",
            "Requirement already satisfied: kiwisolver>=1.0.1 in /usr/local/lib/python3.7/dist-packages (from matplotlib->descartes) (1.3.1)\n",
            "Requirement already satisfied: pyparsing!=2.0.4,!=2.1.2,!=2.1.6,>=2.0.1 in /usr/local/lib/python3.7/dist-packages (from matplotlib->descartes) (2.4.7)\n",
            "Requirement already satisfied: cycler>=0.10 in /usr/local/lib/python3.7/dist-packages (from matplotlib->descartes) (0.10.0)\n",
            "Requirement already satisfied: python-dateutil>=2.1 in /usr/local/lib/python3.7/dist-packages (from matplotlib->descartes) (2.8.2)\n",
            "Requirement already satisfied: six in /usr/local/lib/python3.7/dist-packages (from cycler>=0.10->matplotlib->descartes) (1.15.0)\n",
            "Collecting geojson\n",
            "  Downloading geojson-2.5.0-py2.py3-none-any.whl (14 kB)\n",
            "Installing collected packages: geojson\n",
            "Successfully installed geojson-2.5.0\n"
          ],
          "name": "stdout"
        }
      ]
    },
    {
      "cell_type": "markdown",
      "metadata": {
        "id": "b08R9PIbTnMO"
      },
      "source": [
        "Se comprueba que ambas librerias geográficas se han cargado correctamente."
      ]
    },
    {
      "cell_type": "code",
      "metadata": {
        "colab": {
          "base_uri": "https://localhost:8080/"
        },
        "id": "iKVlb-UhVA0n",
        "outputId": "d5f85a58-26b6-4f42-e9bd-531dfab69c9a"
      },
      "source": [
        "import sys\n",
        "['geopandas' in sys.modules, 'fiona' in sys.modules]"
      ],
      "execution_count": null,
      "outputs": [
        {
          "output_type": "execute_result",
          "data": {
            "text/plain": [
              "[True, True]"
            ]
          },
          "metadata": {
            "tags": []
          },
          "execution_count": 2
        }
      ]
    },
    {
      "cell_type": "markdown",
      "metadata": {
        "id": "YT4grItfcvTN"
      },
      "source": [
        "Recordar subir ahora todos los archivos necesarios. Estos son \n",
        "\n",
        "\n",
        "*   Los archivos *shape*\n",
        "        Madrid.shp\n",
        "        Madrid.shx\n",
        "*   Los archivos *geojson*\n",
        "        bar.geojson\n",
        "        guest_house.geojson\n",
        "        hotel.geojson\n",
        "        metro.geojson\n",
        "        museum.geojson\n",
        "        pub.geojson\n",
        "        restaurant.geojson\n",
        "        school.geojson\n",
        "\n",
        "\n"
      ]
    },
    {
      "cell_type": "markdown",
      "metadata": {
        "id": "Yc6ygVarzPih"
      },
      "source": [
        "A continuación se van a crear dos funciones. Una que tenga como input la forma .shp y de output saque la geometria del polígono y la envoltura del shape."
      ]
    },
    {
      "cell_type": "code",
      "metadata": {
        "id": "ECa3DHjJTNYz"
      },
      "source": [
        "# Cargar zona\n",
        "def loadShape(madrid_shp):\n",
        "\t'''\n",
        "\t'''\n",
        "\tgeometries = {}\n",
        "\tenvelopes = {}\n",
        "\tcell_to_prov = {}\n",
        "\tfor geo_object in fiona.open(madrid_shp):\n",
        "\t\tgeometry = asShape( geo_object['geometry'] )\n",
        "\t\tgeo_id = geo_object['properties']['DS_NOMBRE']\n",
        "\t\tgeometries[geo_id] = geometry\n",
        "\t\tenvelopes[geo_id] = geometry.envelope\n",
        "\n",
        "\treturn geometries, envelopes"
      ],
      "execution_count": null,
      "outputs": []
    },
    {
      "cell_type": "markdown",
      "metadata": {
        "id": "JaadKUA9zoCU"
      },
      "source": [
        "Esta segunda función comprueba si el punto está dentro de la zona de estudio, y en caso de estarlo, indica en la zona en la cual se encuentra."
      ]
    },
    {
      "cell_type": "code",
      "metadata": {
        "id": "xcSyuTiyTPlb"
      },
      "source": [
        "#Comprobar zonas\n",
        "def checkCoords(lat, lon, geometries, envelopes, contour_geometries, contour_envelopes):\n",
        "  '''\n",
        "\t'''\n",
        "  xy_coords = ( lon, lat )\n",
        "  point = Point( xy_coords )\n",
        "  assign_zone = None\n",
        "\n",
        "  for contour_zone in contour_geometries:\n",
        "    if contour_envelopes[contour_zone].contains( point ):\n",
        "      if contour_geometries[contour_zone].contains( point ):\n",
        "        for zone in geometries:\n",
        "          if geometries[zone].contains( point ):\n",
        "            assign_zone = zone\n",
        "            return assign_zone\n",
        "\n",
        "  return assign_zone"
      ],
      "execution_count": null,
      "outputs": []
    },
    {
      "cell_type": "markdown",
      "metadata": {
        "id": "Vt2R5VUUz3TC"
      },
      "source": [
        "Las dos funciones creadas se emplean para el estudio de nuestro caso con nuestros atributos correspondientes."
      ]
    },
    {
      "cell_type": "code",
      "metadata": {
        "colab": {
          "base_uri": "https://localhost:8080/"
        },
        "id": "gSlWlCa7TaES",
        "outputId": "a9ee0534-2236-4edc-c571-c461cdefccb5"
      },
      "source": [
        "madrid_contour_shp = 'contour_4326/contour.shp' #Importante que las coordenadas guardadas de QGIS estén en formato 4326\n",
        "contour_geometries, contour_envelopes = loadShape( madrid_contour_shp) #Se emplea la función creada previamente, en este caso para la envoltura\n",
        "madrid_shp = 'madrid_4326/Madrid.shp'\n",
        "geometries, envelopes = loadShape( madrid_shp) #Se hace lo mismo para el polígono\n",
        "print ('Shapes Loaded')"
      ],
      "execution_count": null,
      "outputs": [
        {
          "output_type": "stream",
          "text": [
            "Shapes Loaded\n"
          ],
          "name": "stdout"
        }
      ]
    },
    {
      "cell_type": "markdown",
      "metadata": {
        "id": "e5XjQCPMbCWp"
      },
      "source": [
        "EL siguiente código genera el .csv deseado. Por tener que comprobar muchos puntos dentro de cada polígono, estas líneas de código requieren bastante tiempo.\n",
        "\n"
      ]
    },
    {
      "cell_type": "code",
      "metadata": {
        "id": "OYt6iMq9jxyX"
      },
      "source": [
        "#Atributos a estudiar en cada polígono\n",
        "study_objects = ['airbnb','bar','guest_house','hotel','metro','museum','pub','restaurant','school']\n",
        "\n",
        "#Nombre del output\n",
        "output_path = 'madrid_attributes.csv'\n",
        "\n",
        "with open(output_path, 'w') as output: #Se abre el archivo de salida\n",
        "  output.write('zone|type|value\\n')\n",
        "  output_dict = {} #Se crea diccionario\n",
        "  for study_object in study_objects: #Para cada atributo\n",
        "    input_data_path = '{}.geojson'.format(study_object)\n",
        "    with open(input_data_path, 'r') as f:\n",
        "      gj = geojson.load(f)\n",
        "      for object in gj['features']:\n",
        "        [lon, lat] = object['geometry']['coordinates'] #Se cogen las coordenadas y se dividen en latitud y longitud\n",
        "        zone = checkCoords(lat, lon, geometries, envelopes, contour_geometries, contour_envelopes) #Se comprueba dentro de que polígono está\n",
        "        if zone: #Si se encuentra en una zona\n",
        "          output_dict.setdefault(zone, {})\n",
        "          output_dict[zone].setdefault(study_object, 0)\n",
        "          output_dict[zone][study_object] += 1 #Se suma 1 al diccionario zona dentro del atributo\n",
        "  for zone in output_dict:\n",
        "    for study_object in output_dict[zone]:\n",
        "      value = output_dict[zone][study_object]\n",
        "      output.write('{}|{}|{}\\n'.format(zone, study_object, value)) #Una vez finalizado el proceso, se exporta el archivo en formato .csv"
      ],
      "execution_count": null,
      "outputs": []
    },
    {
      "cell_type": "markdown",
      "metadata": {
        "id": "w4QKk5shdIq-"
      },
      "source": [
        "Tras 24 minutos de espera, se ha generado el archivo final .csv. Este archivo contiene los nombres, la clase y el número de veces que se tiene esa clase en la zona. Estos datos se han exportado al EXCEL."
      ]
    },
    {
      "cell_type": "markdown",
      "metadata": {
        "id": "aHZIXaBBTxF0"
      },
      "source": [
        "## Depuración de los datos"
      ]
    },
    {
      "cell_type": "markdown",
      "metadata": {
        "id": "swZ7Zz6STzX9"
      },
      "source": [
        "Tras obtener el EXCEL completo con todas las variables descriptivas, se depura los datos para obtener el mejor dataset posible que mejores resultados prediga."
      ]
    },
    {
      "cell_type": "code",
      "metadata": {
        "colab": {
          "base_uri": "https://localhost:8080/"
        },
        "id": "txfCkKqvicz3",
        "outputId": "850502e8-5ab1-488d-970b-6dcd1e24a8ca"
      },
      "source": [
        "df = pd.read_excel(\"variable_descriptivas.xlsx\")\n",
        "print(df)"
      ],
      "execution_count": null,
      "outputs": [
        {
          "output_type": "stream",
          "text": [
            "      Id   Zona Básica Salud     Distrito  ...  Museo  Restaurante  Pub\n",
            "0      0            Abrantes  Carabanchel  ...      0            0    0\n",
            "1      1             Acacias   Arganzuela  ...      0            9    3\n",
            "2      2             Adelfas       Retiro  ...      0           15    5\n",
            "3      3             Alameda       Centro  ...      1           99   23\n",
            "4      4    Alameda de Osuna      Barajas  ...      0           25    2\n",
            "..   ...                 ...          ...  ...    ...          ...  ...\n",
            "129  129  Vinateros - Torito    Moratalaz  ...      0            1    8\n",
            "130  130    Virgen de Begoña   Fuencarral  ...      0           13   11\n",
            "131  131  Virgen del Cortijo    Hortaleza  ...      0           23    3\n",
            "132  132        Vista Alegre  Carabanchel  ...      0           14   15\n",
            "133  133               Zofío        Usera  ...      0            2    0\n",
            "\n",
            "[134 rows x 14 columns]\n"
          ],
          "name": "stdout"
        }
      ]
    },
    {
      "cell_type": "code",
      "metadata": {
        "colab": {
          "base_uri": "https://localhost:8080/"
        },
        "id": "ka80tHbmoTbh",
        "outputId": "5a7ecc53-9c0d-4ed4-dedc-3d3299ef9fa7"
      },
      "source": [
        "df.dtypes"
      ],
      "execution_count": null,
      "outputs": [
        {
          "output_type": "execute_result",
          "data": {
            "text/plain": [
              "Id                      int64\n",
              "Zona Básica Salud      object\n",
              "Distrito               object\n",
              "Superficie (en m2)      int64\n",
              "Población             float64\n",
              "Airbnb                  int64\n",
              "Bar                     int64\n",
              "Colegio                 int64\n",
              "Hostal                  int64\n",
              "Hotel                   int64\n",
              "Metro                   int64\n",
              "Museo                   int64\n",
              "Restaurante             int64\n",
              "Pub                     int64\n",
              "dtype: object"
            ]
          },
          "metadata": {},
          "execution_count": 4
        }
      ]
    },
    {
      "cell_type": "markdown",
      "metadata": {
        "id": "4DUKJVOXt-t-"
      },
      "source": [
        "Se escoge como índice el nombre de la Zona Básica de Salud."
      ]
    },
    {
      "cell_type": "code",
      "metadata": {
        "colab": {
          "base_uri": "https://localhost:8080/",
          "height": 440
        },
        "id": "IF54mKJ-_9A9",
        "outputId": "2a09d988-5a6d-424f-d818-1658fdb61286"
      },
      "source": [
        "df = df.set_index('Zona Básica Salud')\n",
        "df"
      ],
      "execution_count": null,
      "outputs": [
        {
          "output_type": "execute_result",
          "data": {
            "text/html": [
              "<div>\n",
              "<style scoped>\n",
              "    .dataframe tbody tr th:only-of-type {\n",
              "        vertical-align: middle;\n",
              "    }\n",
              "\n",
              "    .dataframe tbody tr th {\n",
              "        vertical-align: top;\n",
              "    }\n",
              "\n",
              "    .dataframe thead th {\n",
              "        text-align: right;\n",
              "    }\n",
              "</style>\n",
              "<table border=\"1\" class=\"dataframe\">\n",
              "  <thead>\n",
              "    <tr style=\"text-align: right;\">\n",
              "      <th></th>\n",
              "      <th>Id</th>\n",
              "      <th>Distrito</th>\n",
              "      <th>Superficie (en m2)</th>\n",
              "      <th>Población</th>\n",
              "      <th>Airbnb</th>\n",
              "      <th>Bar</th>\n",
              "      <th>Colegio</th>\n",
              "      <th>Hostal</th>\n",
              "      <th>Hotel</th>\n",
              "      <th>Metro</th>\n",
              "      <th>Museo</th>\n",
              "      <th>Restaurante</th>\n",
              "      <th>Pub</th>\n",
              "    </tr>\n",
              "    <tr>\n",
              "      <th>Zona Básica Salud</th>\n",
              "      <th></th>\n",
              "      <th></th>\n",
              "      <th></th>\n",
              "      <th></th>\n",
              "      <th></th>\n",
              "      <th></th>\n",
              "      <th></th>\n",
              "      <th></th>\n",
              "      <th></th>\n",
              "      <th></th>\n",
              "      <th></th>\n",
              "      <th></th>\n",
              "      <th></th>\n",
              "    </tr>\n",
              "  </thead>\n",
              "  <tbody>\n",
              "    <tr>\n",
              "      <th>Abrantes</th>\n",
              "      <td>0</td>\n",
              "      <td>Carabanchel</td>\n",
              "      <td>1571624</td>\n",
              "      <td>31934.006884</td>\n",
              "      <td>46</td>\n",
              "      <td>0</td>\n",
              "      <td>5</td>\n",
              "      <td>0</td>\n",
              "      <td>0</td>\n",
              "      <td>2</td>\n",
              "      <td>0</td>\n",
              "      <td>0</td>\n",
              "      <td>0</td>\n",
              "    </tr>\n",
              "    <tr>\n",
              "      <th>Acacias</th>\n",
              "      <td>1</td>\n",
              "      <td>Arganzuela</td>\n",
              "      <td>771573</td>\n",
              "      <td>19449.998748</td>\n",
              "      <td>61</td>\n",
              "      <td>4</td>\n",
              "      <td>3</td>\n",
              "      <td>0</td>\n",
              "      <td>1</td>\n",
              "      <td>1</td>\n",
              "      <td>0</td>\n",
              "      <td>9</td>\n",
              "      <td>3</td>\n",
              "    </tr>\n",
              "    <tr>\n",
              "      <th>Adelfas</th>\n",
              "      <td>2</td>\n",
              "      <td>Retiro</td>\n",
              "      <td>854811</td>\n",
              "      <td>29468.997564</td>\n",
              "      <td>136</td>\n",
              "      <td>3</td>\n",
              "      <td>0</td>\n",
              "      <td>0</td>\n",
              "      <td>0</td>\n",
              "      <td>1</td>\n",
              "      <td>0</td>\n",
              "      <td>15</td>\n",
              "      <td>5</td>\n",
              "    </tr>\n",
              "    <tr>\n",
              "      <th>Alameda</th>\n",
              "      <td>3</td>\n",
              "      <td>Centro</td>\n",
              "      <td>547598</td>\n",
              "      <td>21874.004543</td>\n",
              "      <td>1093</td>\n",
              "      <td>47</td>\n",
              "      <td>2</td>\n",
              "      <td>12</td>\n",
              "      <td>13</td>\n",
              "      <td>1</td>\n",
              "      <td>1</td>\n",
              "      <td>99</td>\n",
              "      <td>23</td>\n",
              "    </tr>\n",
              "    <tr>\n",
              "      <th>Alameda de Osuna</th>\n",
              "      <td>4</td>\n",
              "      <td>Barajas</td>\n",
              "      <td>35138446</td>\n",
              "      <td>29512.995653</td>\n",
              "      <td>76</td>\n",
              "      <td>7</td>\n",
              "      <td>6</td>\n",
              "      <td>0</td>\n",
              "      <td>3</td>\n",
              "      <td>5</td>\n",
              "      <td>0</td>\n",
              "      <td>25</td>\n",
              "      <td>2</td>\n",
              "    </tr>\n",
              "    <tr>\n",
              "      <th>...</th>\n",
              "      <td>...</td>\n",
              "      <td>...</td>\n",
              "      <td>...</td>\n",
              "      <td>...</td>\n",
              "      <td>...</td>\n",
              "      <td>...</td>\n",
              "      <td>...</td>\n",
              "      <td>...</td>\n",
              "      <td>...</td>\n",
              "      <td>...</td>\n",
              "      <td>...</td>\n",
              "      <td>...</td>\n",
              "      <td>...</td>\n",
              "    </tr>\n",
              "    <tr>\n",
              "      <th>Vinateros - Torito</th>\n",
              "      <td>129</td>\n",
              "      <td>Moratalaz</td>\n",
              "      <td>1062147</td>\n",
              "      <td>31247.004697</td>\n",
              "      <td>44</td>\n",
              "      <td>7</td>\n",
              "      <td>2</td>\n",
              "      <td>0</td>\n",
              "      <td>0</td>\n",
              "      <td>1</td>\n",
              "      <td>0</td>\n",
              "      <td>1</td>\n",
              "      <td>8</td>\n",
              "    </tr>\n",
              "    <tr>\n",
              "      <th>Virgen de Begoña</th>\n",
              "      <td>130</td>\n",
              "      <td>Fuencarral</td>\n",
              "      <td>1334974</td>\n",
              "      <td>9798.003217</td>\n",
              "      <td>35</td>\n",
              "      <td>1</td>\n",
              "      <td>3</td>\n",
              "      <td>0</td>\n",
              "      <td>1</td>\n",
              "      <td>0</td>\n",
              "      <td>0</td>\n",
              "      <td>13</td>\n",
              "      <td>11</td>\n",
              "    </tr>\n",
              "    <tr>\n",
              "      <th>Virgen del Cortijo</th>\n",
              "      <td>131</td>\n",
              "      <td>Hortaleza</td>\n",
              "      <td>1501550</td>\n",
              "      <td>14185.996190</td>\n",
              "      <td>53</td>\n",
              "      <td>0</td>\n",
              "      <td>0</td>\n",
              "      <td>0</td>\n",
              "      <td>0</td>\n",
              "      <td>0</td>\n",
              "      <td>0</td>\n",
              "      <td>23</td>\n",
              "      <td>3</td>\n",
              "    </tr>\n",
              "    <tr>\n",
              "      <th>Vista Alegre</th>\n",
              "      <td>132</td>\n",
              "      <td>Carabanchel</td>\n",
              "      <td>1399449</td>\n",
              "      <td>38180.992031</td>\n",
              "      <td>87</td>\n",
              "      <td>5</td>\n",
              "      <td>5</td>\n",
              "      <td>0</td>\n",
              "      <td>2</td>\n",
              "      <td>4</td>\n",
              "      <td>0</td>\n",
              "      <td>14</td>\n",
              "      <td>15</td>\n",
              "    </tr>\n",
              "    <tr>\n",
              "      <th>Zofío</th>\n",
              "      <td>133</td>\n",
              "      <td>Usera</td>\n",
              "      <td>1871149</td>\n",
              "      <td>32314.573239</td>\n",
              "      <td>62</td>\n",
              "      <td>0</td>\n",
              "      <td>4</td>\n",
              "      <td>0</td>\n",
              "      <td>0</td>\n",
              "      <td>0</td>\n",
              "      <td>0</td>\n",
              "      <td>2</td>\n",
              "      <td>0</td>\n",
              "    </tr>\n",
              "  </tbody>\n",
              "</table>\n",
              "<p>134 rows × 13 columns</p>\n",
              "</div>"
            ],
            "text/plain": [
              "                     Id     Distrito  ...  Restaurante  Pub\n",
              "Zona Básica Salud                     ...                  \n",
              "Abrantes              0  Carabanchel  ...            0    0\n",
              "Acacias               1   Arganzuela  ...            9    3\n",
              "Adelfas               2       Retiro  ...           15    5\n",
              "Alameda               3       Centro  ...           99   23\n",
              "Alameda de Osuna      4      Barajas  ...           25    2\n",
              "...                 ...          ...  ...          ...  ...\n",
              "Vinateros - Torito  129    Moratalaz  ...            1    8\n",
              "Virgen de Begoña    130   Fuencarral  ...           13   11\n",
              "Virgen del Cortijo  131    Hortaleza  ...           23    3\n",
              "Vista Alegre        132  Carabanchel  ...           14   15\n",
              "Zofío               133        Usera  ...            2    0\n",
              "\n",
              "[134 rows x 13 columns]"
            ]
          },
          "metadata": {},
          "execution_count": 23
        }
      ]
    },
    {
      "cell_type": "markdown",
      "metadata": {
        "id": "WxPI47SGj_7P"
      },
      "source": [
        "### Id"
      ]
    },
    {
      "cell_type": "markdown",
      "metadata": {
        "id": "quyhzeA9kBy_"
      },
      "source": [
        "Hay que eliminar la columna ID, ya que se ha seleccionado el nombre como Id de cada fila."
      ]
    },
    {
      "cell_type": "code",
      "metadata": {
        "colab": {
          "base_uri": "https://localhost:8080/"
        },
        "id": "yimxZWC3kBBP",
        "outputId": "c586ee9e-391e-48f6-c969-580f5d6fe498"
      },
      "source": [
        "df = df.drop(['Id'], axis=1)\n",
        "print(df)"
      ],
      "execution_count": null,
      "outputs": [
        {
          "output_type": "stream",
          "text": [
            "                       Distrito  Superficie (en m2)  ...  Restaurante  Pub\n",
            "Zona Básica Salud                                    ...                  \n",
            "Abrantes            Carabanchel             1571624  ...            0    0\n",
            "Acacias              Arganzuela              771573  ...            9    3\n",
            "Adelfas                  Retiro              854811  ...           15    5\n",
            "Alameda                  Centro              547598  ...           99   23\n",
            "Alameda de Osuna        Barajas            35138446  ...           25    2\n",
            "...                         ...                 ...  ...          ...  ...\n",
            "Vinateros - Torito    Moratalaz             1062147  ...            1    8\n",
            "Virgen de Begoña     Fuencarral             1334974  ...           13   11\n",
            "Virgen del Cortijo    Hortaleza             1501550  ...           23    3\n",
            "Vista Alegre        Carabanchel             1399449  ...           14   15\n",
            "Zofío                     Usera             1871149  ...            2    0\n",
            "\n",
            "[134 rows x 12 columns]\n"
          ],
          "name": "stdout"
        }
      ]
    },
    {
      "cell_type": "markdown",
      "metadata": {
        "id": "ARv8grAWjJmI"
      },
      "source": [
        "### Población"
      ]
    },
    {
      "cell_type": "markdown",
      "metadata": {
        "id": "kPFxcK9tjN0H"
      },
      "source": [
        "Como se menciona en la memoria del TFM, la población se ha calculado mediante unos proporciones de habitantes, por ello que se hayan obtenido números no naturales. Por ello, para obtener valores int y no float, se redondea:"
      ]
    },
    {
      "cell_type": "code",
      "metadata": {
        "colab": {
          "base_uri": "https://localhost:8080/"
        },
        "id": "jdK6Sz6HjNX_",
        "outputId": "82166b68-6ba8-45ea-ccb7-ade923be2db7"
      },
      "source": [
        "df['Población'] = df['Población'].round(0).astype(int)\n",
        "print(df)"
      ],
      "execution_count": null,
      "outputs": [
        {
          "output_type": "stream",
          "text": [
            "                       Distrito  Superficie (en m2)  ...  Restaurante  Pub\n",
            "Zona Básica Salud                                    ...                  \n",
            "Abrantes            Carabanchel             1571624  ...            0    0\n",
            "Acacias              Arganzuela              771573  ...            9    3\n",
            "Adelfas                  Retiro              854811  ...           15    5\n",
            "Alameda                  Centro              547598  ...           99   23\n",
            "Alameda de Osuna        Barajas            35138446  ...           25    2\n",
            "...                         ...                 ...  ...          ...  ...\n",
            "Vinateros - Torito    Moratalaz             1062147  ...            1    8\n",
            "Virgen de Begoña     Fuencarral             1334974  ...           13   11\n",
            "Virgen del Cortijo    Hortaleza             1501550  ...           23    3\n",
            "Vista Alegre        Carabanchel             1399449  ...           14   15\n",
            "Zofío                     Usera             1871149  ...            2    0\n",
            "\n",
            "[134 rows x 12 columns]\n"
          ],
          "name": "stdout"
        }
      ]
    },
    {
      "cell_type": "markdown",
      "metadata": {
        "id": "uLfv6ERAkZIv"
      },
      "source": [
        "### Distrito"
      ]
    },
    {
      "cell_type": "markdown",
      "metadata": {
        "id": "2mT-KShPkbr3"
      },
      "source": [
        "Hay que categorizar los 21 distritos de Madrid, parra así trabajar con variables numéricas."
      ]
    },
    {
      "cell_type": "code",
      "metadata": {
        "colab": {
          "base_uri": "https://localhost:8080/"
        },
        "id": "uC-DKSOwkgUf",
        "outputId": "508563ff-9fc4-4000-af28-02c52d38eaf5"
      },
      "source": [
        "df['Distrito'] = df['Distrito'].map( {'Arganzuela': 1, 'Barajas': 2, 'Carabanchel': 3,\n",
        "                                      'Centro': 4, 'Chamartín': 5, 'Chamberí': 6,\n",
        "                                      'Ciudad Lineal': 7, 'Fuencarral': 8, 'Hortaleza': 9,\n",
        "                                      'Latina': 10, 'Moncloa': 11, 'Moratalaz': 12,\n",
        "                                      'Puente de Vallecas': 13, 'Retiro': 14, 'Salamanca': 15,\n",
        "                                      'San Blas': 16, 'Tetuan': 17, 'Usera': 18,\n",
        "                                      'Vicálvaro': 19, 'Villa de Vallecas': 20, 'Villaverde': 21} ).astype(int)\n",
        "                                    \n",
        "print(df)"
      ],
      "execution_count": null,
      "outputs": [
        {
          "output_type": "stream",
          "text": [
            "                    Distrito  Superficie (en m2)  ...  Restaurante  Pub\n",
            "Zona Básica Salud                                 ...                  \n",
            "Abrantes                   3             1571624  ...            0    0\n",
            "Acacias                    1              771573  ...            9    3\n",
            "Adelfas                   14              854811  ...           15    5\n",
            "Alameda                    4              547598  ...           99   23\n",
            "Alameda de Osuna           2            35138446  ...           25    2\n",
            "...                      ...                 ...  ...          ...  ...\n",
            "Vinateros - Torito        12             1062147  ...            1    8\n",
            "Virgen de Begoña           8             1334974  ...           13   11\n",
            "Virgen del Cortijo         9             1501550  ...           23    3\n",
            "Vista Alegre               3             1399449  ...           14   15\n",
            "Zofío                     18             1871149  ...            2    0\n",
            "\n",
            "[134 rows x 12 columns]\n"
          ],
          "name": "stdout"
        }
      ]
    },
    {
      "cell_type": "code",
      "metadata": {
        "colab": {
          "base_uri": "https://localhost:8080/"
        },
        "id": "z67-saA5ok_w",
        "outputId": "64182237-36fd-41ff-e635-d432872f9736"
      },
      "source": [
        "df.dtypes"
      ],
      "execution_count": null,
      "outputs": [
        {
          "output_type": "execute_result",
          "data": {
            "text/plain": [
              "Distrito              int64\n",
              "Superficie (en m2)    int64\n",
              "Población             int64\n",
              "Airbnb                int64\n",
              "Bar                   int64\n",
              "Colegio               int64\n",
              "Hostal                int64\n",
              "Hotel                 int64\n",
              "Metro                 int64\n",
              "Museo                 int64\n",
              "Restaurante           int64\n",
              "Pub                   int64\n",
              "dtype: object"
            ]
          },
          "metadata": {},
          "execution_count": 9
        }
      ]
    },
    {
      "cell_type": "markdown",
      "metadata": {
        "id": "Xc5mcGNgZ6Is"
      },
      "source": [
        "Se ha depurado el dataset para obtener finalmente todas las variables del tipo numérico como se quiere obtener. A continuación se comprueba la proporción de valores en cada una de las variables."
      ]
    },
    {
      "cell_type": "markdown",
      "metadata": {
        "id": "Eim9_d-oGjHC"
      },
      "source": [
        "## Porcentajes en cada clase"
      ]
    },
    {
      "cell_type": "markdown",
      "metadata": {
        "id": "lWLRXaO_GlV3"
      },
      "source": [
        "A cotinuación se comprueba la cantidad de valores en cada una de las variables geográficas. Se sabe que si una variable tiene más de un 95% de valores en una categoria se debería quitar, pues no aporta mucha información"
      ]
    },
    {
      "cell_type": "code",
      "metadata": {
        "colab": {
          "base_uri": "https://localhost:8080/"
        },
        "id": "qJGNlPFyGwwZ",
        "outputId": "f6941e94-254f-44ff-b2db-f65284f14575"
      },
      "source": [
        "lista = [df.Airbnb.value_counts(normalize=True).head(2),\n",
        " df.Bar.value_counts(normalize=True).head(2),\n",
        " df.Colegio.value_counts(normalize=True).head(2),\n",
        " df.Hostal.value_counts(normalize=True).head(2),\n",
        " df.Hotel.value_counts(normalize=True).head(2),\n",
        " df.Metro.value_counts(normalize=True).head(2),\n",
        " df.Museo.value_counts(normalize=True).head(2),\n",
        " df.Restaurante.value_counts(normalize=True).head(2),\n",
        " df.Pub.value_counts(normalize=True).head(2)]\n",
        "\n",
        "for x in lista:\n",
        "  print (x*100)"
      ],
      "execution_count": null,
      "outputs": [
        {
          "output_type": "stream",
          "text": [
            "15    2.238806\n",
            "19    2.238806\n",
            "Name: Airbnb, dtype: float64\n",
            "0    18.656716\n",
            "2    13.432836\n",
            "Name: Bar, dtype: float64\n",
            "0    20.895522\n",
            "1    17.910448\n",
            "Name: Colegio, dtype: float64\n",
            "0    88.059701\n",
            "1     3.731343\n",
            "Name: Hostal, dtype: float64\n",
            "0    67.910448\n",
            "1    13.432836\n",
            "Name: Hotel, dtype: float64\n",
            "1    34.328358\n",
            "0    26.119403\n",
            "Name: Metro, dtype: float64\n",
            "0    85.820896\n",
            "1     9.701493\n",
            "Name: Museo, dtype: float64\n",
            "0    8.208955\n",
            "2    8.208955\n",
            "Name: Restaurante, dtype: float64\n",
            "0    25.373134\n",
            "1    13.432836\n",
            "Name: Pub, dtype: float64\n"
          ],
          "name": "stdout"
        }
      ]
    },
    {
      "cell_type": "markdown",
      "metadata": {
        "id": "YANd18W1HkFA"
      },
      "source": [
        "Ningún valor supera el 90%, por lo que suponemos que no hay problemas con las variables. Al estar creado el dataset por nosotros, se sabe que es un dataset limpio, sin valores que falten o valores erróneos. Lo que sí se deberá comprobar a continuación es la correlación entre las variables y la varianza de cada una de las variables."
      ]
    },
    {
      "cell_type": "markdown",
      "metadata": {
        "id": "BTqEznGlWso5"
      },
      "source": [
        "## VIF"
      ]
    },
    {
      "cell_type": "markdown",
      "metadata": {
        "id": "24qj6h9eW8ud"
      },
      "source": [
        "Como se sabe de algunos módulos vistos en clase, se quiere evitar la alta correlación entre las variables. Se quiere que las variables de observación expliquen en la mayor medida de lo posible datos nuevos que sean independientes de los demás, es decir, se quiere tener una baja colinealidad entre las variables. De este modo, cada variable explica una cosa acerca del modelo que es independiente de la otra. Si se tiene una alta colinealidad entre 2 variables, se tiene que esas 2 variables explican cosas similares acerca del modelo, lo cual es redundante y una de esas variables se debería eliminar.\n",
        "\n",
        "Para lograr este objetivo, se emplean las técnicas aprendidas durante los módulos, es decir, se aplica el criterio del valor de VIF."
      ]
    },
    {
      "cell_type": "code",
      "metadata": {
        "id": "al-G3O7cW_l9"
      },
      "source": [
        "# Función para calcular el VIF\n",
        "\n",
        "def calculateVIF(data):\n",
        "    features = list(data.columns)\n",
        "    num_features = len(features)\n",
        "    \n",
        "    model = LinearRegression()\n",
        "    \n",
        "    result = pd.DataFrame(index = ['VIF'], columns = features)\n",
        "    result = result.fillna(0)\n",
        "    \n",
        "    for ite in range(num_features):\n",
        "        x_features = features[:]\n",
        "        y_featue = features[ite]\n",
        "        x_features.remove(y_featue)\n",
        "        \n",
        "        x = data[x_features]\n",
        "        y = data[y_featue]\n",
        "        \n",
        "        model.fit(data[x_features], data[y_featue])\n",
        "        \n",
        "        result[y_featue] = 1/(1 - model.score(data[x_features], data[y_featue]))\n",
        "    \n",
        "    return result"
      ],
      "execution_count": null,
      "outputs": []
    },
    {
      "cell_type": "code",
      "metadata": {
        "id": "7sQRm05jXBpm",
        "colab": {
          "base_uri": "https://localhost:8080/",
          "height": 78
        },
        "outputId": "5261c963-4e87-40a4-960d-010467def8c9"
      },
      "source": [
        "#Se calcula el VIF para nuestro dataset\n",
        "\n",
        "calculateVIF(df)"
      ],
      "execution_count": null,
      "outputs": [
        {
          "output_type": "execute_result",
          "data": {
            "text/html": [
              "<div>\n",
              "<style scoped>\n",
              "    .dataframe tbody tr th:only-of-type {\n",
              "        vertical-align: middle;\n",
              "    }\n",
              "\n",
              "    .dataframe tbody tr th {\n",
              "        vertical-align: top;\n",
              "    }\n",
              "\n",
              "    .dataframe thead th {\n",
              "        text-align: right;\n",
              "    }\n",
              "</style>\n",
              "<table border=\"1\" class=\"dataframe\">\n",
              "  <thead>\n",
              "    <tr style=\"text-align: right;\">\n",
              "      <th></th>\n",
              "      <th>Distrito</th>\n",
              "      <th>Superficie (en m2)</th>\n",
              "      <th>Población</th>\n",
              "      <th>Airbnb</th>\n",
              "      <th>Bar</th>\n",
              "      <th>Colegio</th>\n",
              "      <th>Hotel</th>\n",
              "      <th>Metro</th>\n",
              "      <th>Museo</th>\n",
              "      <th>Restaurante</th>\n",
              "      <th>Pub</th>\n",
              "    </tr>\n",
              "  </thead>\n",
              "  <tbody>\n",
              "    <tr>\n",
              "      <th>VIF</th>\n",
              "      <td>1.204269</td>\n",
              "      <td>1.01817</td>\n",
              "      <td>1.339593</td>\n",
              "      <td>12.086118</td>\n",
              "      <td>7.6673</td>\n",
              "      <td>1.411802</td>\n",
              "      <td>11.345893</td>\n",
              "      <td>1.837724</td>\n",
              "      <td>7.680042</td>\n",
              "      <td>16.520695</td>\n",
              "      <td>2.364697</td>\n",
              "    </tr>\n",
              "  </tbody>\n",
              "</table>\n",
              "</div>"
            ],
            "text/plain": [
              "     Distrito  Superficie (en m2)  Población  ...     Museo  Restaurante       Pub\n",
              "VIF  1.204269             1.01817   1.339593  ...  7.680042    16.520695  2.364697\n",
              "\n",
              "[1 rows x 11 columns]"
            ]
          },
          "metadata": {},
          "execution_count": 21
        }
      ]
    },
    {
      "cell_type": "markdown",
      "metadata": {
        "id": "3tLzu_L-XCBI"
      },
      "source": [
        "Se comprueba que hay muchas variables que tienen un VIF elevado. Estas hay que eliminarlas, ya que la alta correlación entre variables puede dar problemas. Se considera un VIF elevado cuando los valores sobrepasan el umbral 5. Para decidir que variables eliminar, se tendrán en cuenta dos aspectos. Por un lado el valor del VIF y por otro lado el valor de 0s de las variables. Para este segundo punto, se vuelve a consultar el código realizado al principio del estudio."
      ]
    },
    {
      "cell_type": "code",
      "metadata": {
        "id": "ORjN-84LXGW5",
        "colab": {
          "base_uri": "https://localhost:8080/"
        },
        "outputId": "c7020515-79e0-4f8a-b95c-f2593d4f3e32"
      },
      "source": [
        "lista = [df.Airbnb.value_counts(normalize=True).head(2),\n",
        " df.Bar.value_counts(normalize=True).head(2),\n",
        " df.Colegio.value_counts(normalize=True).head(2),\n",
        " df.Hostal.value_counts(normalize=True).head(2),\n",
        " df.Hotel.value_counts(normalize=True).head(2),\n",
        " df.Metro.value_counts(normalize=True).head(2),\n",
        " df.Museo.value_counts(normalize=True).head(2),\n",
        " df.Restaurante.value_counts(normalize=True).head(2),\n",
        " df.Pub.value_counts(normalize=True).head(2)]\n",
        "\n",
        "for x in lista:\n",
        "  print (x*100)"
      ],
      "execution_count": null,
      "outputs": [
        {
          "output_type": "stream",
          "text": [
            "15    2.238806\n",
            "19    2.238806\n",
            "Name: Airbnb, dtype: float64\n",
            "0    18.656716\n",
            "2    13.432836\n",
            "Name: Bar, dtype: float64\n",
            "0    20.895522\n",
            "1    17.910448\n",
            "Name: Colegio, dtype: float64\n",
            "0    88.059701\n",
            "1     3.731343\n",
            "Name: Hostal, dtype: float64\n",
            "0    67.910448\n",
            "1    13.432836\n",
            "Name: Hotel, dtype: float64\n",
            "1    34.328358\n",
            "0    26.119403\n",
            "Name: Metro, dtype: float64\n",
            "0    85.820896\n",
            "1     9.701493\n",
            "Name: Museo, dtype: float64\n",
            "0    8.208955\n",
            "2    8.208955\n",
            "Name: Restaurante, dtype: float64\n",
            "0    25.373134\n",
            "1    13.432836\n",
            "Name: Pub, dtype: float64\n"
          ],
          "name": "stdout"
        }
      ]
    },
    {
      "cell_type": "markdown",
      "metadata": {
        "id": "uDK3uW-6XG3I"
      },
      "source": [
        "Hay un 88% de 0s en hostales y además tiene un VIF de 18, por lo que se elimina del dataset y se comprueba el VIF resultante de las otras variables."
      ]
    },
    {
      "cell_type": "code",
      "metadata": {
        "id": "_KwglXFqXIpi",
        "colab": {
          "base_uri": "https://localhost:8080/",
          "height": 78
        },
        "outputId": "d4712bfb-aa9e-4e8e-e847-f7f2ed654ee7"
      },
      "source": [
        "df.drop(columns = ['Hostal'], inplace =True)\n",
        "calculateVIF(df)"
      ],
      "execution_count": null,
      "outputs": [
        {
          "output_type": "execute_result",
          "data": {
            "text/html": [
              "<div>\n",
              "<style scoped>\n",
              "    .dataframe tbody tr th:only-of-type {\n",
              "        vertical-align: middle;\n",
              "    }\n",
              "\n",
              "    .dataframe tbody tr th {\n",
              "        vertical-align: top;\n",
              "    }\n",
              "\n",
              "    .dataframe thead th {\n",
              "        text-align: right;\n",
              "    }\n",
              "</style>\n",
              "<table border=\"1\" class=\"dataframe\">\n",
              "  <thead>\n",
              "    <tr style=\"text-align: right;\">\n",
              "      <th></th>\n",
              "      <th>Distrito</th>\n",
              "      <th>Superficie (en m2)</th>\n",
              "      <th>Población</th>\n",
              "      <th>Airbnb</th>\n",
              "      <th>Bar</th>\n",
              "      <th>Colegio</th>\n",
              "      <th>Hotel</th>\n",
              "      <th>Metro</th>\n",
              "      <th>Museo</th>\n",
              "      <th>Restaurante</th>\n",
              "      <th>Pub</th>\n",
              "    </tr>\n",
              "  </thead>\n",
              "  <tbody>\n",
              "    <tr>\n",
              "      <th>VIF</th>\n",
              "      <td>1.204269</td>\n",
              "      <td>1.01817</td>\n",
              "      <td>1.339593</td>\n",
              "      <td>12.086118</td>\n",
              "      <td>7.6673</td>\n",
              "      <td>1.411802</td>\n",
              "      <td>11.345893</td>\n",
              "      <td>1.837724</td>\n",
              "      <td>7.680042</td>\n",
              "      <td>16.520695</td>\n",
              "      <td>2.364697</td>\n",
              "    </tr>\n",
              "  </tbody>\n",
              "</table>\n",
              "</div>"
            ],
            "text/plain": [
              "     Distrito  Superficie (en m2)  Población  ...     Museo  Restaurante       Pub\n",
              "VIF  1.204269             1.01817   1.339593  ...  7.680042    16.520695  2.364697\n",
              "\n",
              "[1 rows x 11 columns]"
            ]
          },
          "metadata": {},
          "execution_count": 28
        }
      ]
    },
    {
      "cell_type": "markdown",
      "metadata": {
        "id": "za1BUSXJXSdM"
      },
      "source": [
        "Sgiuiendo el mismo criterio que previamente, se elimina la variable *Museo* por tener un 85% de 0s."
      ]
    },
    {
      "cell_type": "code",
      "metadata": {
        "id": "KgKnfW87XUkq",
        "colab": {
          "base_uri": "https://localhost:8080/",
          "height": 78
        },
        "outputId": "bb281398-ec96-40a1-ebd4-b790d1a74f19"
      },
      "source": [
        "df.drop(columns = ['Museo'], inplace =True)\n",
        "calculateVIF(df)"
      ],
      "execution_count": null,
      "outputs": [
        {
          "output_type": "execute_result",
          "data": {
            "text/html": [
              "<div>\n",
              "<style scoped>\n",
              "    .dataframe tbody tr th:only-of-type {\n",
              "        vertical-align: middle;\n",
              "    }\n",
              "\n",
              "    .dataframe tbody tr th {\n",
              "        vertical-align: top;\n",
              "    }\n",
              "\n",
              "    .dataframe thead th {\n",
              "        text-align: right;\n",
              "    }\n",
              "</style>\n",
              "<table border=\"1\" class=\"dataframe\">\n",
              "  <thead>\n",
              "    <tr style=\"text-align: right;\">\n",
              "      <th></th>\n",
              "      <th>Distrito</th>\n",
              "      <th>Superficie (en m2)</th>\n",
              "      <th>Población</th>\n",
              "      <th>Airbnb</th>\n",
              "      <th>Bar</th>\n",
              "      <th>Colegio</th>\n",
              "      <th>Hotel</th>\n",
              "      <th>Metro</th>\n",
              "      <th>Restaurante</th>\n",
              "      <th>Pub</th>\n",
              "    </tr>\n",
              "  </thead>\n",
              "  <tbody>\n",
              "    <tr>\n",
              "      <th>VIF</th>\n",
              "      <td>1.204033</td>\n",
              "      <td>1.017995</td>\n",
              "      <td>1.339575</td>\n",
              "      <td>11.612117</td>\n",
              "      <td>7.21979</td>\n",
              "      <td>1.348259</td>\n",
              "      <td>6.749068</td>\n",
              "      <td>1.787635</td>\n",
              "      <td>16.068519</td>\n",
              "      <td>2.318699</td>\n",
              "    </tr>\n",
              "  </tbody>\n",
              "</table>\n",
              "</div>"
            ],
            "text/plain": [
              "     Distrito  Superficie (en m2)  Población  ...     Metro  Restaurante       Pub\n",
              "VIF  1.204033            1.017995   1.339575  ...  1.787635    16.068519  2.318699\n",
              "\n",
              "[1 rows x 10 columns]"
            ]
          },
          "metadata": {},
          "execution_count": 15
        }
      ]
    },
    {
      "cell_type": "markdown",
      "metadata": {
        "id": "t_D5z5NfXc1-"
      },
      "source": [
        "El VIF entre las variables sigue siendo muy elevado, por lo que se decide eliminar la variable *Restaurante* por su VIF elevado con un valor superior a 16."
      ]
    },
    {
      "cell_type": "code",
      "metadata": {
        "id": "OqGBQTuEXdSc",
        "colab": {
          "base_uri": "https://localhost:8080/",
          "height": 78
        },
        "outputId": "e5c74e2c-1590-4ade-fca6-752159912d72"
      },
      "source": [
        "df.drop(columns = ['Restaurante'], inplace =True)\n",
        "calculateVIF(df)"
      ],
      "execution_count": null,
      "outputs": [
        {
          "output_type": "execute_result",
          "data": {
            "text/html": [
              "<div>\n",
              "<style scoped>\n",
              "    .dataframe tbody tr th:only-of-type {\n",
              "        vertical-align: middle;\n",
              "    }\n",
              "\n",
              "    .dataframe tbody tr th {\n",
              "        vertical-align: top;\n",
              "    }\n",
              "\n",
              "    .dataframe thead th {\n",
              "        text-align: right;\n",
              "    }\n",
              "</style>\n",
              "<table border=\"1\" class=\"dataframe\">\n",
              "  <thead>\n",
              "    <tr style=\"text-align: right;\">\n",
              "      <th></th>\n",
              "      <th>Distrito</th>\n",
              "      <th>Superficie (en m2)</th>\n",
              "      <th>Población</th>\n",
              "      <th>Airbnb</th>\n",
              "      <th>Bar</th>\n",
              "      <th>Colegio</th>\n",
              "      <th>Hotel</th>\n",
              "      <th>Metro</th>\n",
              "      <th>Pub</th>\n",
              "    </tr>\n",
              "  </thead>\n",
              "  <tbody>\n",
              "    <tr>\n",
              "      <th>VIF</th>\n",
              "      <td>1.192038</td>\n",
              "      <td>1.01387</td>\n",
              "      <td>1.331994</td>\n",
              "      <td>10.68442</td>\n",
              "      <td>5.819389</td>\n",
              "      <td>1.346768</td>\n",
              "      <td>3.967459</td>\n",
              "      <td>1.696501</td>\n",
              "      <td>2.192342</td>\n",
              "    </tr>\n",
              "  </tbody>\n",
              "</table>\n",
              "</div>"
            ],
            "text/plain": [
              "     Distrito  Superficie (en m2)  Población  ...     Hotel     Metro       Pub\n",
              "VIF  1.192038             1.01387   1.331994  ...  3.967459  1.696501  2.192342\n",
              "\n",
              "[1 rows x 9 columns]"
            ]
          },
          "metadata": {},
          "execution_count": 16
        }
      ]
    },
    {
      "cell_type": "markdown",
      "metadata": {
        "id": "E6nWvmWBXj0u"
      },
      "source": [
        "Volviendo a observar la cantidad de 0s, se elimina la variable *Hotel* por tener muchos 0s. Se comprueba el VIF resultante."
      ]
    },
    {
      "cell_type": "code",
      "metadata": {
        "id": "aYDCFwmUYDec",
        "colab": {
          "base_uri": "https://localhost:8080/",
          "height": 78
        },
        "outputId": "c5693463-6d9c-481e-8d02-6c6af44dd0e2"
      },
      "source": [
        "df.drop(columns = ['Hotel'], inplace =True)\n",
        "calculateVIF(df)"
      ],
      "execution_count": null,
      "outputs": [
        {
          "output_type": "execute_result",
          "data": {
            "text/html": [
              "<div>\n",
              "<style scoped>\n",
              "    .dataframe tbody tr th:only-of-type {\n",
              "        vertical-align: middle;\n",
              "    }\n",
              "\n",
              "    .dataframe tbody tr th {\n",
              "        vertical-align: top;\n",
              "    }\n",
              "\n",
              "    .dataframe thead th {\n",
              "        text-align: right;\n",
              "    }\n",
              "</style>\n",
              "<table border=\"1\" class=\"dataframe\">\n",
              "  <thead>\n",
              "    <tr style=\"text-align: right;\">\n",
              "      <th></th>\n",
              "      <th>Distrito</th>\n",
              "      <th>Superficie (en m2)</th>\n",
              "      <th>Población</th>\n",
              "      <th>Airbnb</th>\n",
              "      <th>Bar</th>\n",
              "      <th>Colegio</th>\n",
              "      <th>Metro</th>\n",
              "      <th>Pub</th>\n",
              "    </tr>\n",
              "  </thead>\n",
              "  <tbody>\n",
              "    <tr>\n",
              "      <th>VIF</th>\n",
              "      <td>1.173084</td>\n",
              "      <td>1.010896</td>\n",
              "      <td>1.314464</td>\n",
              "      <td>5.681975</td>\n",
              "      <td>5.381398</td>\n",
              "      <td>1.312591</td>\n",
              "      <td>1.615387</td>\n",
              "      <td>2.16213</td>\n",
              "    </tr>\n",
              "  </tbody>\n",
              "</table>\n",
              "</div>"
            ],
            "text/plain": [
              "     Distrito  Superficie (en m2)  Población  ...   Colegio     Metro      Pub\n",
              "VIF  1.173084            1.010896   1.314464  ...  1.312591  1.615387  2.16213\n",
              "\n",
              "[1 rows x 8 columns]"
            ]
          },
          "metadata": {},
          "execution_count": 17
        }
      ]
    },
    {
      "cell_type": "markdown",
      "metadata": {
        "id": "QcXsyxFlYHx8"
      },
      "source": [
        "Airbnb y Bar tienen valores muy elevados ambos, sin embargo, por contener Airbnb más valores diferentes, se decide eliminar la variable *Bar*. Se supone que la variable Airbnb puede aportar más información que la variable Bar."
      ]
    },
    {
      "cell_type": "code",
      "metadata": {
        "id": "78L1zdIYYJpl",
        "colab": {
          "base_uri": "https://localhost:8080/",
          "height": 78
        },
        "outputId": "8ac2b5fd-3e2d-441b-b726-a200dcae654a"
      },
      "source": [
        "df.drop(columns = ['Bar'], inplace =True)\n",
        "calculateVIF(df)"
      ],
      "execution_count": null,
      "outputs": [
        {
          "output_type": "execute_result",
          "data": {
            "text/html": [
              "<div>\n",
              "<style scoped>\n",
              "    .dataframe tbody tr th:only-of-type {\n",
              "        vertical-align: middle;\n",
              "    }\n",
              "\n",
              "    .dataframe tbody tr th {\n",
              "        vertical-align: top;\n",
              "    }\n",
              "\n",
              "    .dataframe thead th {\n",
              "        text-align: right;\n",
              "    }\n",
              "</style>\n",
              "<table border=\"1\" class=\"dataframe\">\n",
              "  <thead>\n",
              "    <tr style=\"text-align: right;\">\n",
              "      <th></th>\n",
              "      <th>Distrito</th>\n",
              "      <th>Superficie (en m2)</th>\n",
              "      <th>Población</th>\n",
              "      <th>Airbnb</th>\n",
              "      <th>Colegio</th>\n",
              "      <th>Metro</th>\n",
              "      <th>Pub</th>\n",
              "    </tr>\n",
              "  </thead>\n",
              "  <tbody>\n",
              "    <tr>\n",
              "      <th>VIF</th>\n",
              "      <td>1.172195</td>\n",
              "      <td>1.01066</td>\n",
              "      <td>1.278523</td>\n",
              "      <td>2.15699</td>\n",
              "      <td>1.231989</td>\n",
              "      <td>1.554662</td>\n",
              "      <td>2.0747</td>\n",
              "    </tr>\n",
              "  </tbody>\n",
              "</table>\n",
              "</div>"
            ],
            "text/plain": [
              "     Distrito  Superficie (en m2)  Población  ...   Colegio     Metro     Pub\n",
              "VIF  1.172195             1.01066   1.278523  ...  1.231989  1.554662  2.0747\n",
              "\n",
              "[1 rows x 7 columns]"
            ]
          },
          "metadata": {},
          "execution_count": 18
        }
      ]
    },
    {
      "cell_type": "markdown",
      "metadata": {
        "id": "ffRjY522YNI6"
      },
      "source": [
        "El VIF entre todas las variables es muy bajo, por lo que se puede trabajar con este dataset, ya que las columnas tienen una baja correlación entre si. Finalmente, de las coordenadas geográficas, únicamente se han escogido:\n",
        "\n",
        "\n",
        "*   Airbnb\n",
        "*   Colegio\n",
        "*   Metro\n",
        "*   Pub"
      ]
    },
    {
      "cell_type": "code",
      "metadata": {
        "id": "xaFKAxpqYRMF",
        "colab": {
          "base_uri": "https://localhost:8080/"
        },
        "outputId": "49be0d63-551c-4f87-fe48-520e6f4fe2df"
      },
      "source": [
        "df.shape[1]"
      ],
      "execution_count": null,
      "outputs": [
        {
          "output_type": "execute_result",
          "data": {
            "text/plain": [
              "7"
            ]
          },
          "metadata": {},
          "execution_count": 19
        }
      ]
    },
    {
      "cell_type": "markdown",
      "metadata": {
        "id": "nDTQHnmwYS9V"
      },
      "source": [
        "En este momento se tiene 7 variables explicativas. Comprobemos la Varianza de las variables. "
      ]
    },
    {
      "cell_type": "markdown",
      "metadata": {
        "id": "Koc50kFEYUCt"
      },
      "source": [
        "### Varianza baja"
      ]
    },
    {
      "cell_type": "markdown",
      "metadata": {
        "id": "K8tyiN_KYWk2"
      },
      "source": [
        "Además del estudio realizado del VIF, se quiere un dataset con variables que contengan una varianza elevada. Por ello, se van a eliminar aquellas variables con una varianza demasiado baja, pues esto puede causar un problema cuando el conjunto se divida en *train* y *test*."
      ]
    },
    {
      "cell_type": "code",
      "metadata": {
        "id": "1KC9-BAdYaQI"
      },
      "source": [
        "var_th = VarianceThreshold(threshold = 0.30)\n",
        "df_var = var_th.fit_transform(df)"
      ],
      "execution_count": null,
      "outputs": []
    },
    {
      "cell_type": "markdown",
      "metadata": {
        "id": "6CNcFmYcYcsi"
      },
      "source": [
        "Veamos que variables se mantienen igual"
      ]
    },
    {
      "cell_type": "code",
      "metadata": {
        "id": "yaNGoK90YfbR",
        "colab": {
          "base_uri": "https://localhost:8080/"
        },
        "outputId": "3a67c0ae-b9b7-47b6-e221-cadb1181b79b"
      },
      "source": [
        "df_var.shape[1]"
      ],
      "execution_count": null,
      "outputs": [
        {
          "output_type": "execute_result",
          "data": {
            "text/plain": [
              "7"
            ]
          },
          "metadata": {},
          "execution_count": 21
        }
      ]
    },
    {
      "cell_type": "markdown",
      "metadata": {
        "id": "uGRuQEKaYg78"
      },
      "source": [
        "Se conservan las 7 variables del modelo, pues la varianza no dará problemas.\n",
        "Finalmente se ha terminado con el análisis del Dataset. Se ha comprobado que es un dataset válido para poder trabajar con él. Por ello, a continuación, se realizarán los dos estudios principales. Por un lado se clusteriza las zonas básicas de Salud. Por otro, se creará un modelo capaz de modelar la COVID-19 en cada unas de las zonas básicas de Salud."
      ]
    },
    {
      "cell_type": "markdown",
      "metadata": {
        "id": "ifwZifUVUJse"
      },
      "source": [
        "## Clustering"
      ]
    },
    {
      "cell_type": "markdown",
      "metadata": {
        "id": "9D8s-Qr6ULL9"
      },
      "source": [
        "Tras la depuración de los datos, ya se puede clusterizar las diferentes zonas básicas de Salud."
      ]
    },
    {
      "cell_type": "markdown",
      "metadata": {
        "id": "SfoJwePrFOaY"
      },
      "source": [
        "### Matriz de distancias"
      ]
    },
    {
      "cell_type": "markdown",
      "metadata": {
        "id": "9JH5Nq-dxnFU"
      },
      "source": [
        "Se halla a continuación la matriz de distancias entre todos los individuos. Para ello, primeramente hay que estandarizar los datos para que todas las variables sean igual de cualitativas."
      ]
    },
    {
      "cell_type": "code",
      "metadata": {
        "colab": {
          "base_uri": "https://localhost:8080/",
          "height": 200
        },
        "id": "bLveXsC-h-rB",
        "outputId": "d4af3e00-38ee-4acc-b9d1-bb5d691c41dc"
      },
      "source": [
        "datos_escalados = scale(X=df, axis=0, with_mean=True, with_std=True) \n",
        "datos_escalados = pd.DataFrame(datos_escalados, columns=df.columns, index=df.index)\n",
        "datos_escalados.head(4)"
      ],
      "execution_count": null,
      "outputs": [
        {
          "output_type": "execute_result",
          "data": {
            "text/html": [
              "<div>\n",
              "<style scoped>\n",
              "    .dataframe tbody tr th:only-of-type {\n",
              "        vertical-align: middle;\n",
              "    }\n",
              "\n",
              "    .dataframe tbody tr th {\n",
              "        vertical-align: top;\n",
              "    }\n",
              "\n",
              "    .dataframe thead th {\n",
              "        text-align: right;\n",
              "    }\n",
              "</style>\n",
              "<table border=\"1\" class=\"dataframe\">\n",
              "  <thead>\n",
              "    <tr style=\"text-align: right;\">\n",
              "      <th></th>\n",
              "      <th>Distrito</th>\n",
              "      <th>Superficie (en m2)</th>\n",
              "      <th>Población</th>\n",
              "      <th>Airbnb</th>\n",
              "      <th>Colegio</th>\n",
              "      <th>Metro</th>\n",
              "      <th>Pub</th>\n",
              "    </tr>\n",
              "    <tr>\n",
              "      <th>Zona Básica Salud</th>\n",
              "      <th></th>\n",
              "      <th></th>\n",
              "      <th></th>\n",
              "      <th></th>\n",
              "      <th></th>\n",
              "      <th></th>\n",
              "      <th></th>\n",
              "    </tr>\n",
              "  </thead>\n",
              "  <tbody>\n",
              "    <tr>\n",
              "      <th>Abrantes</th>\n",
              "      <td>-1.329246</td>\n",
              "      <td>-0.172085</td>\n",
              "      <td>0.711554</td>\n",
              "      <td>-0.307332</td>\n",
              "      <td>1.017710</td>\n",
              "      <td>0.390174</td>\n",
              "      <td>-0.713189</td>\n",
              "    </tr>\n",
              "    <tr>\n",
              "      <th>Acacias</th>\n",
              "      <td>-1.675108</td>\n",
              "      <td>-0.218910</td>\n",
              "      <td>-0.545417</td>\n",
              "      <td>-0.261407</td>\n",
              "      <td>0.146316</td>\n",
              "      <td>-0.326035</td>\n",
              "      <td>-0.268000</td>\n",
              "    </tr>\n",
              "    <tr>\n",
              "      <th>Adelfas</th>\n",
              "      <td>0.572995</td>\n",
              "      <td>-0.214038</td>\n",
              "      <td>0.463362</td>\n",
              "      <td>-0.031782</td>\n",
              "      <td>-1.160775</td>\n",
              "      <td>-0.326035</td>\n",
              "      <td>0.028793</td>\n",
              "    </tr>\n",
              "    <tr>\n",
              "      <th>Alameda</th>\n",
              "      <td>-1.156315</td>\n",
              "      <td>-0.232019</td>\n",
              "      <td>-0.301353</td>\n",
              "      <td>2.898233</td>\n",
              "      <td>-0.289381</td>\n",
              "      <td>-0.326035</td>\n",
              "      <td>2.699931</td>\n",
              "    </tr>\n",
              "  </tbody>\n",
              "</table>\n",
              "</div>"
            ],
            "text/plain": [
              "                   Distrito  Superficie (en m2)  ...     Metro       Pub\n",
              "Zona Básica Salud                                ...                    \n",
              "Abrantes          -1.329246           -0.172085  ...  0.390174 -0.713189\n",
              "Acacias           -1.675108           -0.218910  ... -0.326035 -0.268000\n",
              "Adelfas            0.572995           -0.214038  ... -0.326035  0.028793\n",
              "Alameda           -1.156315           -0.232019  ... -0.326035  2.699931\n",
              "\n",
              "[4 rows x 7 columns]"
            ]
          },
          "metadata": {
            "tags": []
          },
          "execution_count": 24
        }
      ]
    },
    {
      "cell_type": "markdown",
      "metadata": {
        "id": "4mlQKywwyl47"
      },
      "source": [
        "Matriz de distancias"
      ]
    },
    {
      "cell_type": "code",
      "metadata": {
        "colab": {
          "base_uri": "https://localhost:8080/",
          "height": 200
        },
        "id": "bz6Pu2snyncz",
        "outputId": "49c6af28-be93-42ab-a6f6-20a923fd6633"
      },
      "source": [
        "#Cálculo de distancias\n",
        "\n",
        "distancias = pairwise_distances(\n",
        "                X      = datos_escalados,\n",
        "                metric ='euclidean'\n",
        "             )\n",
        "\n",
        "#Como DataFrame\n",
        "\n",
        "distancias = pd.DataFrame(\n",
        "                distancias,\n",
        "                columns=datos_escalados.index,\n",
        "                index = datos_escalados.index\n",
        "            )\n",
        "\n",
        "\n",
        "#Mostras primeras 4 filas y columnas\n",
        "distancias.iloc[:4,:4]"
      ],
      "execution_count": null,
      "outputs": [
        {
          "output_type": "execute_result",
          "data": {
            "text/html": [
              "<div>\n",
              "<style scoped>\n",
              "    .dataframe tbody tr th:only-of-type {\n",
              "        vertical-align: middle;\n",
              "    }\n",
              "\n",
              "    .dataframe tbody tr th {\n",
              "        vertical-align: top;\n",
              "    }\n",
              "\n",
              "    .dataframe thead th {\n",
              "        text-align: right;\n",
              "    }\n",
              "</style>\n",
              "<table border=\"1\" class=\"dataframe\">\n",
              "  <thead>\n",
              "    <tr style=\"text-align: right;\">\n",
              "      <th>Zona Básica Salud</th>\n",
              "      <th>Abrantes</th>\n",
              "      <th>Acacias</th>\n",
              "      <th>Adelfas</th>\n",
              "      <th>Alameda</th>\n",
              "    </tr>\n",
              "    <tr>\n",
              "      <th>Zona Básica Salud</th>\n",
              "      <th></th>\n",
              "      <th></th>\n",
              "      <th></th>\n",
              "      <th></th>\n",
              "    </tr>\n",
              "  </thead>\n",
              "  <tbody>\n",
              "    <tr>\n",
              "      <th>Abrantes</th>\n",
              "      <td>0.000000</td>\n",
              "      <td>1.781678e+00</td>\n",
              "      <td>3.093072</td>\n",
              "      <td>5.020553</td>\n",
              "    </tr>\n",
              "    <tr>\n",
              "      <th>Acacias</th>\n",
              "      <td>1.781678</td>\n",
              "      <td>2.980232e-08</td>\n",
              "      <td>2.814414</td>\n",
              "      <td>4.394389</td>\n",
              "    </tr>\n",
              "    <tr>\n",
              "      <th>Adelfas</th>\n",
              "      <td>3.093072</td>\n",
              "      <td>2.814414e+00</td>\n",
              "      <td>0.000000</td>\n",
              "      <td>4.478271</td>\n",
              "    </tr>\n",
              "    <tr>\n",
              "      <th>Alameda</th>\n",
              "      <td>5.020553</td>\n",
              "      <td>4.394389e+00</td>\n",
              "      <td>4.478271</td>\n",
              "      <td>0.000000</td>\n",
              "    </tr>\n",
              "  </tbody>\n",
              "</table>\n",
              "</div>"
            ],
            "text/plain": [
              "Zona Básica Salud  Abrantes       Acacias   Adelfas   Alameda\n",
              "Zona Básica Salud                                            \n",
              "Abrantes           0.000000  1.781678e+00  3.093072  5.020553\n",
              "Acacias            1.781678  2.980232e-08  2.814414  4.394389\n",
              "Adelfas            3.093072  2.814414e+00  0.000000  4.478271\n",
              "Alameda            5.020553  4.394389e+00  4.478271  0.000000"
            ]
          },
          "metadata": {
            "tags": []
          },
          "execution_count": 25
        }
      ]
    },
    {
      "cell_type": "markdown",
      "metadata": {
        "id": "LJnk7_jrFtSg"
      },
      "source": [
        "Una vez creada la matriz de distancias, se puede crear un vector ordenado por mínimas distancias"
      ]
    },
    {
      "cell_type": "code",
      "metadata": {
        "colab": {
          "base_uri": "https://localhost:8080/",
          "height": 138
        },
        "id": "ObDu229kGP2g",
        "outputId": "83c795e3-a404-40ce-d3cd-d704d162ca5f"
      },
      "source": [
        "#Descartamos primero la diagonal superior para evitar problemas\n",
        "\n",
        "# Se descarta la diagonal superior de la matriz\n",
        "\n",
        "distancias = pairwise_distances(\n",
        "                X      = datos_escalados,\n",
        "                metric ='euclidean'\n",
        "             )\n",
        "\n",
        "distancias[np.triu_indices(n=distancias.shape[0])] = np.nan\n",
        "\n",
        "#Lo demás se realiza igual\n",
        "\n",
        "distancias = pd.DataFrame(\n",
        "                distancias,\n",
        "                columns=datos_escalados.index,\n",
        "                index = datos_escalados.index\n",
        "            )\n",
        "\n",
        "#Se ordena de menor a mayor en forma de lista y decidimos que nos muestre, por ejemplo, los 3 primeros\n",
        "\n",
        "distancias.melt(ignore_index=False, var_name=\"zona_básica_2\", value_name='distancia') \\\n",
        "    .rename_axis(\"zona_básica_1\") \\\n",
        "    .reset_index() \\\n",
        "    .dropna() \\\n",
        "    .sort_values('distancia') \\\n",
        "    .head(3)"
      ],
      "execution_count": null,
      "outputs": [
        {
          "output_type": "execute_result",
          "data": {
            "text/html": [
              "<div>\n",
              "<style scoped>\n",
              "    .dataframe tbody tr th:only-of-type {\n",
              "        vertical-align: middle;\n",
              "    }\n",
              "\n",
              "    .dataframe tbody tr th {\n",
              "        vertical-align: top;\n",
              "    }\n",
              "\n",
              "    .dataframe thead th {\n",
              "        text-align: right;\n",
              "    }\n",
              "</style>\n",
              "<table border=\"1\" class=\"dataframe\">\n",
              "  <thead>\n",
              "    <tr style=\"text-align: right;\">\n",
              "      <th></th>\n",
              "      <th>zona_básica_1</th>\n",
              "      <th>zona_básica_2</th>\n",
              "      <th>distancia</th>\n",
              "    </tr>\n",
              "  </thead>\n",
              "  <tbody>\n",
              "    <tr>\n",
              "      <th>3052</th>\n",
              "      <td>Rafael Alberti</td>\n",
              "      <td>Campo de la Paloma</td>\n",
              "      <td>0.118943</td>\n",
              "    </tr>\n",
              "    <tr>\n",
              "      <th>7481</th>\n",
              "      <td>San Isidro</td>\n",
              "      <td>Guayaba</td>\n",
              "      <td>0.282083</td>\n",
              "    </tr>\n",
              "    <tr>\n",
              "      <th>1449</th>\n",
              "      <td>San Diego</td>\n",
              "      <td>Ángela Uriarte</td>\n",
              "      <td>0.321270</td>\n",
              "    </tr>\n",
              "  </tbody>\n",
              "</table>\n",
              "</div>"
            ],
            "text/plain": [
              "       zona_básica_1       zona_básica_2  distancia\n",
              "3052  Rafael Alberti  Campo de la Paloma   0.118943\n",
              "7481      San Isidro             Guayaba   0.282083\n",
              "1449       San Diego      Ángela Uriarte   0.321270"
            ]
          },
          "metadata": {
            "tags": []
          },
          "execution_count": 26
        }
      ]
    },
    {
      "cell_type": "markdown",
      "metadata": {
        "id": "_DZA9gUDICfB"
      },
      "source": [
        "Nos muestra los *n* distritos más comunes, en este caso los 3 más parecidos son: \n",
        "\n",
        "\n",
        "*   Rafael Alberti - Campo de la Paloma\n",
        "*   San Isidro - Guayaba\n",
        "*   San Diego - Ángela Uriarte\n",
        "\n"
      ]
    },
    {
      "cell_type": "markdown",
      "metadata": {
        "id": "T5RMdoIjFtop"
      },
      "source": [
        "### Número de clusteres óptimo"
      ]
    },
    {
      "cell_type": "markdown",
      "metadata": {
        "id": "HoojCLYKFx4R"
      },
      "source": [
        "Como se trata de un problema de cluster no supervisado, no se sabe cual es la cantidad de clusteres óptimo. Por ello, se aplican las técnicas más conocidas, la de *Elbow* y *Silhouette*, para conocer este número."
      ]
    },
    {
      "cell_type": "markdown",
      "metadata": {
        "id": "nZm6z-Nd6MGh"
      },
      "source": [
        "Para decidir ahora el grupo de clusters se emplea el método de Elbow:"
      ]
    },
    {
      "cell_type": "code",
      "metadata": {
        "colab": {
          "base_uri": "https://localhost:8080/",
          "height": 287
        },
        "id": "D_mG4n-z6RDM",
        "outputId": "065dfd0a-3c2e-415f-ba41-1aa196e069ee"
      },
      "source": [
        "#Método Elbow\n",
        "\n",
        "range_n_clusters = range(1, 25) #Máximo 25 clusteres, no se quieren más\n",
        "inertias = [] #Lista vacia en la cual se va insertando la evolucion de la varianza para cada número de cluster diferente\n",
        "\n",
        "for n_clusters in range_n_clusters:\n",
        "  # Para los 25 posibles clusteres, se van generando estos mediante el método de KMeans\n",
        "    modelo_kmeans = KMeans(\n",
        "                        n_clusters   = n_clusters, \n",
        "                        n_init       = 20, \n",
        "                        random_state = 123\n",
        "                    )\n",
        "    modelo_kmeans.fit(datos_escalados)\n",
        "    inertias.append(modelo_kmeans.inertia_)\n",
        "\n",
        "#Figura que muestre la varianza intra-cluster de todos los modelos\n",
        "#Se quiere buscar un momento en el cual la varianza deje de descender tan bruscamente.\n",
        "\n",
        "fig, ax = plt.subplots(1, 1, figsize=(6, 3.84))\n",
        "ax.plot(range_n_clusters, inertias, marker='o')\n",
        "ax.set_title(\"Evolución de la varianza intra-cluster total\")\n",
        "ax.set_xlabel('Número clusters')\n",
        "ax.set_ylabel('Intra-cluster (inertia)');"
      ],
      "execution_count": null,
      "outputs": [
        {
          "output_type": "display_data",
          "data": {
            "image/png": "[encoded data removed]",
            "text/plain": [
              "<Figure size 432x276.48 with 1 Axes>"
            ]
          },
          "metadata": {
            "tags": [],
            "needs_background": "light"
          }
        }
      ]
    },
    {
      "cell_type": "markdown",
      "metadata": {
        "id": "rZvq9s-2xN2V"
      },
      "source": [
        "Cuesta con este método observar el punto en el que la varianza deja de descender tan rápidamente. A partir de aproximadamente 6 clusteres se podría considerar que la curva se empieza a aplanar un poco."
      ]
    },
    {
      "cell_type": "markdown",
      "metadata": {
        "id": "KQUUrBOW7kJu"
      },
      "source": [
        "Veamoslo ahora con Silhouette el número óptimo de clusters que recomienda"
      ]
    },
    {
      "cell_type": "code",
      "metadata": {
        "colab": {
          "base_uri": "https://localhost:8080/",
          "height": 287
        },
        "id": "TxrXQ1eC8TMl",
        "outputId": "97761fa4-1857-4866-fe30-3e9885f0162e"
      },
      "source": [
        "# Método silhouette\n",
        "\n",
        "\n",
        "#Del mismo modo, se selecciona un máximo de 25 clusters y se genera una lista vacia para ir añadiendo los valores\n",
        "#En este caso, no se quiere la varianza sino la media de los índices\n",
        "range_n_clusters = range(2, 25)\n",
        "valores_medios_silhouette = []\n",
        "\n",
        "for n_clusters in range_n_clusters:\n",
        "    modelo_kmeans = KMeans(\n",
        "                        n_clusters   = n_clusters, \n",
        "                        n_init       = 20, \n",
        "                        random_state = 123\n",
        "                    )\n",
        "    cluster_labels = modelo_kmeans.fit_predict(datos_escalados)\n",
        "    silhouette_avg = silhouette_score(datos_escalados, cluster_labels)\n",
        "    valores_medios_silhouette.append(silhouette_avg)\n",
        "\n",
        "#Se pintan a continuación los diferentes puntos\n",
        "#Se busca un punto en el cual haya un pico\n",
        "    \n",
        "fig, ax = plt.subplots(1, 1, figsize=(6, 3.84))\n",
        "ax.plot(range_n_clusters, valores_medios_silhouette, marker='o')\n",
        "ax.set_title(\"Evolución de media de los índices silhouette\")\n",
        "ax.set_xlabel('Número clusters')\n",
        "ax.set_ylabel('Media índices silhouette');"
      ],
      "execution_count": null,
      "outputs": [
        {
          "output_type": "display_data",
          "data": {
            "image/png": "[encoded data removed]",
            "text/plain": [
              "<Figure size 432x276.48 with 1 Axes>"
            ]
          },
          "metadata": {
            "tags": [],
            "needs_background": "light"
          }
        }
      ]
    },
    {
      "cell_type": "markdown",
      "metadata": {
        "id": "rxs-SZ498p4k"
      },
      "source": [
        "Con el método Elbow no se llega a reconocer del todo bien. Con Silhouette se reconoce mejor. No se quieren seleccionar demasiados clusters, puesto que tampoco hay tantas variables descriptivas en el Dataset. Por lo tanto se opta por escoger **6** clusters por haber un pequeño pico mediante el método de Slhouette. Otras posibilidades podrían haber sido 4 o 10 clusters por haber picos en la gráfica de Silhouette. Sin embargo, por haber más de 130 zonas de salud, se ha considerado que 4 es un número muy bajo y se ha considerado que 10 es un número muy elevado, por ello se ha optado por escoger 6 clusters.\n",
        "\n"
      ]
    },
    {
      "cell_type": "markdown",
      "metadata": {
        "id": "XeWg7Uk2JhVq"
      },
      "source": [
        "### Dividir las zonas básicas de salud en clusters."
      ]
    },
    {
      "cell_type": "markdown",
      "metadata": {
        "id": "zlq6VnVY_JRN"
      },
      "source": [
        "Una vez se sabe que se quiere dividir el conjunto en 6 clusters, se aplican métodos no jerárquicos que dividan los 6 clusters de una forma lo más exacta posible, mediante el método de kMeans, aquel que va juntando formando los grupos mediante la distancia óptima entre los individuos. Veamos ahora los grupos de los diferentes clusters."
      ]
    },
    {
      "cell_type": "code",
      "metadata": {
        "id": "yzZkyZHvCP8f"
      },
      "source": [
        "km = KMeans(n_clusters=6).fit(datos_escalados)\n",
        "\n",
        "cluster_map = pd.DataFrame()\n",
        "cluster_map['zonas'] = datos_escalados.index.values\n",
        "cluster_map['cluster'] = km.labels_"
      ],
      "execution_count": null,
      "outputs": []
    },
    {
      "cell_type": "code",
      "metadata": {
        "colab": {
          "base_uri": "https://localhost:8080/",
          "height": 653
        },
        "id": "eC_O8XQJCchl",
        "outputId": "98673862-3301-47d0-a652-3d63a77d6431"
      },
      "source": [
        "cluster_map.head(20)"
      ],
      "execution_count": null,
      "outputs": [
        {
          "output_type": "execute_result",
          "data": {
            "text/html": [
              "<div>\n",
              "<style scoped>\n",
              "    .dataframe tbody tr th:only-of-type {\n",
              "        vertical-align: middle;\n",
              "    }\n",
              "\n",
              "    .dataframe tbody tr th {\n",
              "        vertical-align: top;\n",
              "    }\n",
              "\n",
              "    .dataframe thead th {\n",
              "        text-align: right;\n",
              "    }\n",
              "</style>\n",
              "<table border=\"1\" class=\"dataframe\">\n",
              "  <thead>\n",
              "    <tr style=\"text-align: right;\">\n",
              "      <th></th>\n",
              "      <th>zonas</th>\n",
              "      <th>cluster</th>\n",
              "    </tr>\n",
              "  </thead>\n",
              "  <tbody>\n",
              "    <tr>\n",
              "      <th>0</th>\n",
              "      <td>Abrantes</td>\n",
              "      <td>0</td>\n",
              "    </tr>\n",
              "    <tr>\n",
              "      <th>1</th>\n",
              "      <td>Acacias</td>\n",
              "      <td>4</td>\n",
              "    </tr>\n",
              "    <tr>\n",
              "      <th>2</th>\n",
              "      <td>Adelfas</td>\n",
              "      <td>1</td>\n",
              "    </tr>\n",
              "    <tr>\n",
              "      <th>3</th>\n",
              "      <td>Alameda</td>\n",
              "      <td>2</td>\n",
              "    </tr>\n",
              "    <tr>\n",
              "      <th>4</th>\n",
              "      <td>Alameda de Osuna</td>\n",
              "      <td>0</td>\n",
              "    </tr>\n",
              "    <tr>\n",
              "      <th>5</th>\n",
              "      <td>Alcalá  de Guadaira</td>\n",
              "      <td>1</td>\n",
              "    </tr>\n",
              "    <tr>\n",
              "      <th>6</th>\n",
              "      <td>Alcocer</td>\n",
              "      <td>1</td>\n",
              "    </tr>\n",
              "    <tr>\n",
              "      <th>7</th>\n",
              "      <td>Almendrales</td>\n",
              "      <td>1</td>\n",
              "    </tr>\n",
              "    <tr>\n",
              "      <th>8</th>\n",
              "      <td>Alpes</td>\n",
              "      <td>3</td>\n",
              "    </tr>\n",
              "    <tr>\n",
              "      <th>9</th>\n",
              "      <td>Andrés Mellado</td>\n",
              "      <td>0</td>\n",
              "    </tr>\n",
              "    <tr>\n",
              "      <th>10</th>\n",
              "      <td>Ángela Uriarte</td>\n",
              "      <td>1</td>\n",
              "    </tr>\n",
              "    <tr>\n",
              "      <th>11</th>\n",
              "      <td>Antonio Leyva</td>\n",
              "      <td>4</td>\n",
              "    </tr>\n",
              "    <tr>\n",
              "      <th>12</th>\n",
              "      <td>Aquitania</td>\n",
              "      <td>0</td>\n",
              "    </tr>\n",
              "    <tr>\n",
              "      <th>13</th>\n",
              "      <td>Aravaca</td>\n",
              "      <td>0</td>\n",
              "    </tr>\n",
              "    <tr>\n",
              "      <th>14</th>\n",
              "      <td>Argüelles</td>\n",
              "      <td>0</td>\n",
              "    </tr>\n",
              "    <tr>\n",
              "      <th>15</th>\n",
              "      <td>Barajas</td>\n",
              "      <td>0</td>\n",
              "    </tr>\n",
              "    <tr>\n",
              "      <th>16</th>\n",
              "      <td>Baviera</td>\n",
              "      <td>1</td>\n",
              "    </tr>\n",
              "    <tr>\n",
              "      <th>17</th>\n",
              "      <td>Benita de Ávila</td>\n",
              "      <td>0</td>\n",
              "    </tr>\n",
              "    <tr>\n",
              "      <th>18</th>\n",
              "      <td>Buenavista</td>\n",
              "      <td>4</td>\n",
              "    </tr>\n",
              "    <tr>\n",
              "      <th>19</th>\n",
              "      <td>Bustarviejo</td>\n",
              "      <td>1</td>\n",
              "    </tr>\n",
              "  </tbody>\n",
              "</table>\n",
              "</div>"
            ],
            "text/plain": [
              "                  zonas  cluster\n",
              "0              Abrantes        0\n",
              "1               Acacias        4\n",
              "2               Adelfas        1\n",
              "3               Alameda        2\n",
              "4      Alameda de Osuna        0\n",
              "5   Alcalá  de Guadaira        1\n",
              "6               Alcocer        1\n",
              "7           Almendrales        1\n",
              "8                 Alpes        3\n",
              "9        Andrés Mellado        0\n",
              "10       Ángela Uriarte        1\n",
              "11        Antonio Leyva        4\n",
              "12            Aquitania        0\n",
              "13              Aravaca        0\n",
              "14            Argüelles        0\n",
              "15              Barajas        0\n",
              "16              Baviera        1\n",
              "17      Benita de Ávila        0\n",
              "18           Buenavista        4\n",
              "19          Bustarviejo        1"
            ]
          },
          "metadata": {
            "tags": []
          },
          "execution_count": 30
        }
      ]
    },
    {
      "cell_type": "markdown",
      "metadata": {
        "id": "1IPMfp1sJD6z"
      },
      "source": [
        "Mediante un estudio de componentes principales, se podrían interpretar que variables representan mismas características y escoger las dos más significativas para representarlo gráficamente. Sin embargo, para el objetivo del trabajo esto no es de importancia, sino comparar las zonas de mismos clusters. Por ello, no se tratarán las Componentes Principales en este trabajo.\n",
        "\n",
        "Este DataFrame se exporta como .csv"
      ]
    },
    {
      "cell_type": "code",
      "metadata": {
        "id": "5W80bYgyIguj"
      },
      "source": [
        "cluster_map.to_csv ('Clusters.csv', header=True)"
      ],
      "execution_count": null,
      "outputs": []
    },
    {
      "cell_type": "markdown",
      "metadata": {
        "id": "OK4dhRJnjZTq"
      },
      "source": [
        "La división de los clusters y las principales conclusiones al respecto se discuten en la memoria del TFM."
      ]
    },
    {
      "cell_type": "markdown",
      "metadata": {
        "id": "dbMH665SjjWY"
      },
      "source": [
        "Una vez finalizado el estudio de clustering, se crea el modelo mediante las técnicas de Machine Learning."
      ]
    },
    {
      "cell_type": "markdown",
      "metadata": {
        "id": "9ResjZAfl4OA"
      },
      "source": [
        "## Machine Learning"
      ]
    },
    {
      "cell_type": "markdown",
      "metadata": {
        "id": "CUIbsZkMjp7D"
      },
      "source": [
        "El objetivo de este apartado es generar un modelo capaz de predecir casos de COVID-19 en las diferentes zonas básicas de Salud. Para ello, se ha trabajado mediante la misma metodología que los módulos impartidos en durante el curso."
      ]
    },
    {
      "cell_type": "markdown",
      "metadata": {
        "id": "Y7nNLBUpOZg6"
      },
      "source": [
        "### Cargar Variable Objetivo"
      ]
    },
    {
      "cell_type": "markdown",
      "metadata": {
        "id": "25voEuSrl8hQ"
      },
      "source": [
        "A continuación se va a crear el modelo para predecir covid en una cierta zona básica de Salud. Lo primero es cargar la variable objetivo."
      ]
    },
    {
      "cell_type": "code",
      "metadata": {
        "colab": {
          "base_uri": "https://localhost:8080/",
          "height": 440
        },
        "id": "nseyUfDTxjYb",
        "outputId": "0ee70c5e-d608-4b8a-aa41-8ae0f9befeb3"
      },
      "source": [
        "df_y = pd.read_excel(\"variable_objetivo.xlsx\")\n",
        "df_y = df_y.set_index('Zona Básica Salud')\n",
        "df_y = df_y.drop(['Id'], axis=1)\n",
        "\n",
        "df_y"
      ],
      "execution_count": null,
      "outputs": [
        {
          "output_type": "execute_result",
          "data": {
            "text/html": [
              "<div>\n",
              "<style scoped>\n",
              "    .dataframe tbody tr th:only-of-type {\n",
              "        vertical-align: middle;\n",
              "    }\n",
              "\n",
              "    .dataframe tbody tr th {\n",
              "        vertical-align: top;\n",
              "    }\n",
              "\n",
              "    .dataframe thead th {\n",
              "        text-align: right;\n",
              "    }\n",
              "</style>\n",
              "<table border=\"1\" class=\"dataframe\">\n",
              "  <thead>\n",
              "    <tr style=\"text-align: right;\">\n",
              "      <th></th>\n",
              "      <th>Casos confirmados totales (10 agosto)</th>\n",
              "    </tr>\n",
              "    <tr>\n",
              "      <th>Zona Básica Salud</th>\n",
              "      <th></th>\n",
              "    </tr>\n",
              "  </thead>\n",
              "  <tbody>\n",
              "    <tr>\n",
              "      <th>Abrantes</th>\n",
              "      <td>3889</td>\n",
              "    </tr>\n",
              "    <tr>\n",
              "      <th>Acacias</th>\n",
              "      <td>2175</td>\n",
              "    </tr>\n",
              "    <tr>\n",
              "      <th>Adelfas</th>\n",
              "      <td>3365</td>\n",
              "    </tr>\n",
              "    <tr>\n",
              "      <th>Alameda</th>\n",
              "      <td>2939</td>\n",
              "    </tr>\n",
              "    <tr>\n",
              "      <th>Alameda de Osuna</th>\n",
              "      <td>3327</td>\n",
              "    </tr>\n",
              "    <tr>\n",
              "      <th>...</th>\n",
              "      <td>...</td>\n",
              "    </tr>\n",
              "    <tr>\n",
              "      <th>Vinateros - Torito</th>\n",
              "      <td>4075</td>\n",
              "    </tr>\n",
              "    <tr>\n",
              "      <th>Virgen de Begoña</th>\n",
              "      <td>1365</td>\n",
              "    </tr>\n",
              "    <tr>\n",
              "      <th>Virgen del Cortijo</th>\n",
              "      <td>1875</td>\n",
              "    </tr>\n",
              "    <tr>\n",
              "      <th>Vista Alegre</th>\n",
              "      <td>4756</td>\n",
              "    </tr>\n",
              "    <tr>\n",
              "      <th>Zofío</th>\n",
              "      <td>4335</td>\n",
              "    </tr>\n",
              "  </tbody>\n",
              "</table>\n",
              "<p>134 rows × 1 columns</p>\n",
              "</div>"
            ],
            "text/plain": [
              "                    Casos confirmados totales (10 agosto)\n",
              "Zona Básica Salud                                        \n",
              "Abrantes                                             3889\n",
              "Acacias                                              2175\n",
              "Adelfas                                              3365\n",
              "Alameda                                              2939\n",
              "Alameda de Osuna                                     3327\n",
              "...                                                   ...\n",
              "Vinateros - Torito                                   4075\n",
              "Virgen de Begoña                                     1365\n",
              "Virgen del Cortijo                                   1875\n",
              "Vista Alegre                                         4756\n",
              "Zofío                                                4335\n",
              "\n",
              "[134 rows x 1 columns]"
            ]
          },
          "metadata": {},
          "execution_count": 22
        }
      ]
    },
    {
      "cell_type": "markdown",
      "metadata": {
        "id": "7aGuA6mmm7nV"
      },
      "source": [
        "## Crear el Modelo "
      ]
    },
    {
      "cell_type": "markdown",
      "metadata": {
        "id": "pgF4hlxHnFfn"
      },
      "source": [
        "A continuación se va a crear el modelo capaz de predecir casos de COVID-19 en ciertas zonas básicas de Salud. Para ello se necesita un conjunto *train*, que será con el que el modelo entrene y el conjunto *test* para observar como de bien es capaz de predecir. Se ha decidido dividir los conjuntos en un 75% y 25% respectivamente.\n",
        "\n",
        "En este caso se trata de un problema de *regresión* por ser la variable objetivo **continua**. Si fuese binaria, se trataría de un problema de *clasificación*."
      ]
    },
    {
      "cell_type": "markdown",
      "metadata": {
        "id": "bFD1i0XcPC4L"
      },
      "source": [
        "### **Conjuntos Train/Test**"
      ]
    },
    {
      "cell_type": "code",
      "metadata": {
        "id": "N-drebsXyIl6"
      },
      "source": [
        "X_train, X_test, y_train, y_test = train_test_split(\n",
        "                                        df,\n",
        "                                        df_y['Casos confirmados totales (10 agosto)'],\n",
        "                                        train_size   = 0.75,\n",
        "                                        random_state = 1234,\n",
        "                                        shuffle = True\n",
        "                                    )\n"
      ],
      "execution_count": null,
      "outputs": []
    },
    {
      "cell_type": "markdown",
      "metadata": {
        "id": "x7hw7QMHnXX4"
      },
      "source": [
        "A continuación se va a seleccionar el algoritmo que se va a emplear, mediante el objeto *estimator*. Este contiene los métodos *fit* para aprender sobre el conjunto train y el método *predict* para predecir los datos del conjunto test.\n",
        "\n",
        "Además del propio modelo, cada algoritmo cuenta con sus propios hiperparámetros. Gracias a la función GridSearch se seleccionan aquellos parámetros que menor error asocien a los datos, con cuidado de no sobreentrenarlo y obtener overfitting."
      ]
    },
    {
      "cell_type": "markdown",
      "metadata": {
        "id": "Ao7-Gs-ZWlU5"
      },
      "source": [
        "## Tipos de Modelos"
      ]
    },
    {
      "cell_type": "markdown",
      "metadata": {
        "id": "-33y9cyQWmyo"
      },
      "source": [
        "Para este apartado se van a emplear 5 tipos de modelos, cada uno con su GridSearch respectivamente. Se han escogido 5 tipos de modelos diferentes, posiblemente los más reconocidos, aunque se podrían haber escogido más modelos o haber buscado más hiperparámetros dentro de cada modelo usado. Los 5 modelos son\n",
        "\n",
        "*   Regresión Lineal\n",
        "*   Random Forest\n",
        "*   Decision Tree\n",
        "*   Gradient Boost\n",
        "*   ARD\n"
      ]
    },
    {
      "cell_type": "markdown",
      "metadata": {
        "id": "o0eMCu0ETddg"
      },
      "source": [
        "## Primer Modelo: Regresión Lineal"
      ]
    },
    {
      "cell_type": "markdown",
      "metadata": {
        "id": "DD8FM7Ca1yVJ"
      },
      "source": [
        "Lo primero que se hará, en los 5 casos, será buscar aquellos hiperparámetros que mejor estimen las observaciones."
      ]
    },
    {
      "cell_type": "code",
      "metadata": {
        "id": "ecyisrTI2neV"
      },
      "source": [
        "#Creación modelo\n",
        "\n",
        "modelo_1 = LinearRegression()"
      ],
      "execution_count": null,
      "outputs": []
    },
    {
      "cell_type": "code",
      "metadata": {
        "id": "_2UfN9_KwLNM"
      },
      "source": [
        "#Búsqueda mejores hiperparámetros\n",
        "\n",
        "grid_param_1 = {\n",
        "    'n_jobs': [1, 3, 5, 10, 100, 500]\n",
        "}\n",
        "\n",
        "#Model Grid para variables continuas\n",
        "\n",
        "model_grid_1 = GridSearchCV(estimator=modelo_1,\n",
        "                     param_grid=grid_param_1,\n",
        "                     scoring='neg_root_mean_squared_error',\n",
        "                     n_jobs     = multiprocessing.cpu_count() - 1,\n",
        "                     cv=RepeatedKFold(n_splits = 5, n_repeats = 5),\n",
        "                     verbose = 0\n",
        "                     )"
      ],
      "execution_count": null,
      "outputs": []
    },
    {
      "cell_type": "code",
      "metadata": {
        "colab": {
          "base_uri": "https://localhost:8080/"
        },
        "id": "Znwk5CoIwYc1",
        "outputId": "d6444af5-4eb5-4ddd-ef16-533c32dc3655"
      },
      "source": [
        "model_grid_1.fit(X_train, y_train)\n",
        "\n",
        "print(model_grid_1.best_params_)"
      ],
      "execution_count": null,
      "outputs": [
        {
          "output_type": "stream",
          "text": [
            "{'n_jobs': 1}\n"
          ],
          "name": "stdout"
        }
      ]
    },
    {
      "cell_type": "markdown",
      "metadata": {
        "id": "DisJJtwe5e8s"
      },
      "source": [
        "Una vez se tienen los mejores resultados, se comprueban las predicciones y el error obtenido."
      ]
    },
    {
      "cell_type": "code",
      "metadata": {
        "colab": {
          "base_uri": "https://localhost:8080/",
          "height": 381
        },
        "id": "VPKzgJ0H5gYr",
        "outputId": "043c3a3d-4186-46ae-8681-6136f989135d"
      },
      "source": [
        "#Modelo final ganador\n",
        "modelofinal_1 = LinearRegression(n_jobs=1).fit(X_train, y_train)\n",
        "\n",
        "predicciones_1 = modelofinal_1.predict(X_test)\n",
        "\n",
        "# Se crea un dataframe con las predicciones y el valor real\n",
        "df_predicciones_1 = pd.DataFrame({'Casos' : y_test, 'prediccion' : predicciones_1})\n",
        "df_predicciones_1.head(10)"
      ],
      "execution_count": null,
      "outputs": [
        {
          "output_type": "execute_result",
          "data": {
            "text/html": [
              "<div>\n",
              "<style scoped>\n",
              "    .dataframe tbody tr th:only-of-type {\n",
              "        vertical-align: middle;\n",
              "    }\n",
              "\n",
              "    .dataframe tbody tr th {\n",
              "        vertical-align: top;\n",
              "    }\n",
              "\n",
              "    .dataframe thead th {\n",
              "        text-align: right;\n",
              "    }\n",
              "</style>\n",
              "<table border=\"1\" class=\"dataframe\">\n",
              "  <thead>\n",
              "    <tr style=\"text-align: right;\">\n",
              "      <th></th>\n",
              "      <th>Casos</th>\n",
              "      <th>prediccion</th>\n",
              "    </tr>\n",
              "    <tr>\n",
              "      <th>Zona Básica Salud</th>\n",
              "      <th></th>\n",
              "      <th></th>\n",
              "    </tr>\n",
              "  </thead>\n",
              "  <tbody>\n",
              "    <tr>\n",
              "      <th>Alcocer</th>\n",
              "      <td>2331</td>\n",
              "      <td>2355.961018</td>\n",
              "    </tr>\n",
              "    <tr>\n",
              "      <th>Virgen del Cortijo</th>\n",
              "      <td>1875</td>\n",
              "      <td>1831.029360</td>\n",
              "    </tr>\n",
              "    <tr>\n",
              "      <th>Pavones</th>\n",
              "      <td>2164</td>\n",
              "      <td>2104.932582</td>\n",
              "    </tr>\n",
              "    <tr>\n",
              "      <th>La Elipa</th>\n",
              "      <td>1948</td>\n",
              "      <td>1781.266237</td>\n",
              "    </tr>\n",
              "    <tr>\n",
              "      <th>Legazpi</th>\n",
              "      <td>3210</td>\n",
              "      <td>3514.184249</td>\n",
              "    </tr>\n",
              "    <tr>\n",
              "      <th>Martínez de la Riva</th>\n",
              "      <td>2787</td>\n",
              "      <td>2230.501021</td>\n",
              "    </tr>\n",
              "    <tr>\n",
              "      <th>Infanta Mercedes</th>\n",
              "      <td>1724</td>\n",
              "      <td>1872.661452</td>\n",
              "    </tr>\n",
              "    <tr>\n",
              "      <th>Justicia</th>\n",
              "      <td>2129</td>\n",
              "      <td>2021.825730</td>\n",
              "    </tr>\n",
              "    <tr>\n",
              "      <th>San Isidro</th>\n",
              "      <td>2496</td>\n",
              "      <td>2305.211992</td>\n",
              "    </tr>\n",
              "    <tr>\n",
              "      <th>Comillas</th>\n",
              "      <td>3049</td>\n",
              "      <td>2989.982934</td>\n",
              "    </tr>\n",
              "  </tbody>\n",
              "</table>\n",
              "</div>"
            ],
            "text/plain": [
              "                     Casos   prediccion\n",
              "Zona Básica Salud                      \n",
              "Alcocer               2331  2355.961018\n",
              "Virgen del Cortijo    1875  1831.029360\n",
              "Pavones               2164  2104.932582\n",
              "La Elipa              1948  1781.266237\n",
              "Legazpi               3210  3514.184249\n",
              "Martínez de la Riva   2787  2230.501021\n",
              "Infanta Mercedes      1724  1872.661452\n",
              "Justicia              2129  2021.825730\n",
              "San Isidro            2496  2305.211992\n",
              "Comillas              3049  2989.982934"
            ]
          },
          "metadata": {
            "tags": []
          },
          "execution_count": 91
        }
      ]
    },
    {
      "cell_type": "markdown",
      "metadata": {
        "id": "HZUyyi0txUG3"
      },
      "source": [
        "Comprobamos ahora el error total"
      ]
    },
    {
      "cell_type": "code",
      "metadata": {
        "colab": {
          "base_uri": "https://localhost:8080/"
        },
        "id": "kxIbxpARxW1C",
        "outputId": "18085b4f-bf74-4492-e58c-49e00ac1ac4a"
      },
      "source": [
        "rmse_1 = mean_squared_error(\n",
        "        y_true = y_test,\n",
        "        y_pred = predicciones_1,\n",
        "        squared = False\n",
        "       )\n",
        "rmse_1"
      ],
      "execution_count": null,
      "outputs": [
        {
          "output_type": "execute_result",
          "data": {
            "text/plain": [
              "364.60281407665434"
            ]
          },
          "metadata": {
            "tags": []
          },
          "execution_count": 46
        }
      ]
    },
    {
      "cell_type": "markdown",
      "metadata": {
        "id": "F6cDFvHA_o33"
      },
      "source": [
        "Se obtiene un error de 364. Cuanto menor sea este número, mejor son las estimaciones."
      ]
    },
    {
      "cell_type": "markdown",
      "metadata": {
        "id": "Z4XGkE_j2LGr"
      },
      "source": [
        "Este mismo proceso se ha realizado para los siguientes 4 modelos."
      ]
    },
    {
      "cell_type": "markdown",
      "metadata": {
        "id": "jBSpj1O-7tDm"
      },
      "source": [
        "## Random Forest"
      ]
    },
    {
      "cell_type": "code",
      "metadata": {
        "id": "vtRZEPQp7sgu"
      },
      "source": [
        "#Creación modelo\n",
        "\n",
        "modelo_2 = RandomForestRegressor()"
      ],
      "execution_count": null,
      "outputs": []
    },
    {
      "cell_type": "code",
      "metadata": {
        "id": "l7wT1Zj58Qbm"
      },
      "source": [
        "#Búsqueda mejores hiperparámetros\n",
        "\n",
        "grid_param_2 = {\n",
        "    'n_estimators': [100, 300, 700,100],\n",
        "    'criterion': ['mse', 'mae'],\n",
        "    'min_samples_split': [2,8,16,32]\n",
        "}\n",
        "\n",
        "#Model Grid para variables continuas\n",
        "\n",
        "model_grid_2 = GridSearchCV(estimator=modelo_2,\n",
        "                     param_grid=grid_param_2,\n",
        "                     scoring='neg_root_mean_squared_error',\n",
        "                     n_jobs     = multiprocessing.cpu_count() - 1,\n",
        "                     cv=RepeatedKFold(n_splits = 5, n_repeats = 5),\n",
        "                     verbose = 0\n",
        "                     )"
      ],
      "execution_count": null,
      "outputs": []
    },
    {
      "cell_type": "code",
      "metadata": {
        "colab": {
          "base_uri": "https://localhost:8080/"
        },
        "id": "3eS3xACy85nY",
        "outputId": "048e1eea-5dfe-48a2-c40d-6e16ec9a1f75"
      },
      "source": [
        "model_grid_2.fit(X_train, y_train)\n",
        "\n",
        "print(model_grid_2.best_params_)"
      ],
      "execution_count": null,
      "outputs": [
        {
          "output_type": "stream",
          "text": [
            "{'criterion': 'mse', 'min_samples_split': 2, 'n_estimators': 300}\n"
          ],
          "name": "stdout"
        }
      ]
    },
    {
      "cell_type": "code",
      "metadata": {
        "colab": {
          "base_uri": "https://localhost:8080/",
          "height": 381
        },
        "id": "R0Aygy_uBEWo",
        "outputId": "7c40bd29-41f7-42c6-8ab6-617189b160cb"
      },
      "source": [
        "#Modelo final ganador\n",
        "modelofinal_2 = RandomForestRegressor(n_estimators=300, criterion='mse', min_samples_split=2).fit(X_train, y_train)\n",
        "\n",
        "predicciones_2 = modelofinal_2.predict(X_test)\n",
        "\n",
        "# Se crea un dataframe con las predicciones y el valor real\n",
        "df_predicciones_2 = pd.DataFrame({'Casos' : y_test, 'prediccion' : predicciones_2})\n",
        "df_predicciones_2.head(10)"
      ],
      "execution_count": null,
      "outputs": [
        {
          "output_type": "execute_result",
          "data": {
            "text/html": [
              "<div>\n",
              "<style scoped>\n",
              "    .dataframe tbody tr th:only-of-type {\n",
              "        vertical-align: middle;\n",
              "    }\n",
              "\n",
              "    .dataframe tbody tr th {\n",
              "        vertical-align: top;\n",
              "    }\n",
              "\n",
              "    .dataframe thead th {\n",
              "        text-align: right;\n",
              "    }\n",
              "</style>\n",
              "<table border=\"1\" class=\"dataframe\">\n",
              "  <thead>\n",
              "    <tr style=\"text-align: right;\">\n",
              "      <th></th>\n",
              "      <th>Casos</th>\n",
              "      <th>prediccion</th>\n",
              "    </tr>\n",
              "    <tr>\n",
              "      <th>Zona Básica Salud</th>\n",
              "      <th></th>\n",
              "      <th></th>\n",
              "    </tr>\n",
              "  </thead>\n",
              "  <tbody>\n",
              "    <tr>\n",
              "      <th>Alcocer</th>\n",
              "      <td>2331</td>\n",
              "      <td>2153.836667</td>\n",
              "    </tr>\n",
              "    <tr>\n",
              "      <th>Virgen del Cortijo</th>\n",
              "      <td>1875</td>\n",
              "      <td>1809.223333</td>\n",
              "    </tr>\n",
              "    <tr>\n",
              "      <th>Pavones</th>\n",
              "      <td>2164</td>\n",
              "      <td>2060.480000</td>\n",
              "    </tr>\n",
              "    <tr>\n",
              "      <th>La Elipa</th>\n",
              "      <td>1948</td>\n",
              "      <td>1732.746667</td>\n",
              "    </tr>\n",
              "    <tr>\n",
              "      <th>Legazpi</th>\n",
              "      <td>3210</td>\n",
              "      <td>3682.803333</td>\n",
              "    </tr>\n",
              "    <tr>\n",
              "      <th>Martínez de la Riva</th>\n",
              "      <td>2787</td>\n",
              "      <td>2219.426667</td>\n",
              "    </tr>\n",
              "    <tr>\n",
              "      <th>Infanta Mercedes</th>\n",
              "      <td>1724</td>\n",
              "      <td>1797.683333</td>\n",
              "    </tr>\n",
              "    <tr>\n",
              "      <th>Justicia</th>\n",
              "      <td>2129</td>\n",
              "      <td>1806.910000</td>\n",
              "    </tr>\n",
              "    <tr>\n",
              "      <th>San Isidro</th>\n",
              "      <td>2496</td>\n",
              "      <td>2362.203333</td>\n",
              "    </tr>\n",
              "    <tr>\n",
              "      <th>Comillas</th>\n",
              "      <td>3049</td>\n",
              "      <td>3012.646667</td>\n",
              "    </tr>\n",
              "  </tbody>\n",
              "</table>\n",
              "</div>"
            ],
            "text/plain": [
              "                     Casos   prediccion\n",
              "Zona Básica Salud                      \n",
              "Alcocer               2331  2153.836667\n",
              "Virgen del Cortijo    1875  1809.223333\n",
              "Pavones               2164  2060.480000\n",
              "La Elipa              1948  1732.746667\n",
              "Legazpi               3210  3682.803333\n",
              "Martínez de la Riva   2787  2219.426667\n",
              "Infanta Mercedes      1724  1797.683333\n",
              "Justicia              2129  1806.910000\n",
              "San Isidro            2496  2362.203333\n",
              "Comillas              3049  3012.646667"
            ]
          },
          "metadata": {
            "tags": []
          },
          "execution_count": 92
        }
      ]
    },
    {
      "cell_type": "code",
      "metadata": {
        "colab": {
          "base_uri": "https://localhost:8080/"
        },
        "id": "C3ODX4oECZzw",
        "outputId": "9227e3b5-264c-4c45-90bf-5bb6ae65567f"
      },
      "source": [
        "rmse_2 = mean_squared_error(\n",
        "        y_true = y_test,\n",
        "        y_pred = predicciones_2,\n",
        "        squared = False\n",
        "       )\n",
        "rmse_2"
      ],
      "execution_count": null,
      "outputs": [
        {
          "output_type": "execute_result",
          "data": {
            "text/plain": [
              "320.6596688293142"
            ]
          },
          "metadata": {
            "tags": []
          },
          "execution_count": 53
        }
      ]
    },
    {
      "cell_type": "markdown",
      "metadata": {
        "id": "P08Fyfx5BUPb"
      },
      "source": [
        "## Decision Tree "
      ]
    },
    {
      "cell_type": "code",
      "metadata": {
        "id": "TQXTGtojBYQj"
      },
      "source": [
        "#Creación modelo\n",
        "\n",
        "modelo_3 = DecisionTreeRegressor()"
      ],
      "execution_count": null,
      "outputs": []
    },
    {
      "cell_type": "code",
      "metadata": {
        "id": "TEk0GtZ6B7-0"
      },
      "source": [
        "#Búsqueda mejores hiperparámetros\n",
        "\n",
        "grid_param_3 = {\n",
        "    'criterion': ['mse', 'friedman_mse','mae'],\n",
        "    'splitter': ['best', 'random'],\n",
        "    'min_samples_split': [2,4,8,16,32],\n",
        "    'max_depth': [1,2,4,8],\n",
        "    'min_samples_leaf': [1,2,4,8]\n",
        "}\n",
        "\n",
        "#Model Grid para variables continuas\n",
        "\n",
        "model_grid_3 = GridSearchCV(estimator=modelo_3,\n",
        "                     param_grid=grid_param_3,\n",
        "                     scoring='neg_root_mean_squared_error',\n",
        "                     n_jobs     = multiprocessing.cpu_count() - 1,\n",
        "                     cv=RepeatedKFold(n_splits = 5, n_repeats = 5),\n",
        "                     verbose = 0\n",
        "                     )"
      ],
      "execution_count": null,
      "outputs": []
    },
    {
      "cell_type": "code",
      "metadata": {
        "colab": {
          "base_uri": "https://localhost:8080/"
        },
        "id": "U82cphbXNzVk",
        "outputId": "2b6ceecf-4e4b-4eb2-80ef-6f4c8b28f5a4"
      },
      "source": [
        "model_grid_3.fit(X_train, y_train)\n",
        "\n",
        "print(model_grid_3.best_params_)"
      ],
      "execution_count": null,
      "outputs": [
        {
          "output_type": "stream",
          "text": [
            "{'criterion': 'friedman_mse', 'max_depth': 4, 'min_samples_leaf': 1, 'min_samples_split': 4, 'splitter': 'best'}\n"
          ],
          "name": "stdout"
        }
      ]
    },
    {
      "cell_type": "code",
      "metadata": {
        "colab": {
          "base_uri": "https://localhost:8080/",
          "height": 381
        },
        "id": "J_jrzcpuN3zI",
        "outputId": "bcdc3bd3-8da9-4ebd-e1be-65247c6cc243"
      },
      "source": [
        "#Modelo final ganador\n",
        "modelofinal_3 = DecisionTreeRegressor(splitter='best', criterion='friedman_mse', min_samples_split=4, max_depth=4, min_samples_leaf=1).fit(X_train, y_train)\n",
        "\n",
        "predicciones_3 = modelofinal_3.predict(X_test)\n",
        "\n",
        "# Se crea un dataframe con las predicciones y el valor real\n",
        "df_predicciones_3 = pd.DataFrame({'Casos' : y_test, 'prediccion' : predicciones_3})\n",
        "df_predicciones_3.head(10)"
      ],
      "execution_count": null,
      "outputs": [
        {
          "output_type": "execute_result",
          "data": {
            "text/html": [
              "<div>\n",
              "<style scoped>\n",
              "    .dataframe tbody tr th:only-of-type {\n",
              "        vertical-align: middle;\n",
              "    }\n",
              "\n",
              "    .dataframe tbody tr th {\n",
              "        vertical-align: top;\n",
              "    }\n",
              "\n",
              "    .dataframe thead th {\n",
              "        text-align: right;\n",
              "    }\n",
              "</style>\n",
              "<table border=\"1\" class=\"dataframe\">\n",
              "  <thead>\n",
              "    <tr style=\"text-align: right;\">\n",
              "      <th></th>\n",
              "      <th>Casos</th>\n",
              "      <th>prediccion</th>\n",
              "    </tr>\n",
              "    <tr>\n",
              "      <th>Zona Básica Salud</th>\n",
              "      <th></th>\n",
              "      <th></th>\n",
              "    </tr>\n",
              "  </thead>\n",
              "  <tbody>\n",
              "    <tr>\n",
              "      <th>Alcocer</th>\n",
              "      <td>2331</td>\n",
              "      <td>2540.200000</td>\n",
              "    </tr>\n",
              "    <tr>\n",
              "      <th>Virgen del Cortijo</th>\n",
              "      <td>1875</td>\n",
              "      <td>1827.818182</td>\n",
              "    </tr>\n",
              "    <tr>\n",
              "      <th>Pavones</th>\n",
              "      <td>2164</td>\n",
              "      <td>1827.818182</td>\n",
              "    </tr>\n",
              "    <tr>\n",
              "      <th>La Elipa</th>\n",
              "      <td>1948</td>\n",
              "      <td>1827.818182</td>\n",
              "    </tr>\n",
              "    <tr>\n",
              "      <th>Legazpi</th>\n",
              "      <td>3210</td>\n",
              "      <td>3860.240000</td>\n",
              "    </tr>\n",
              "    <tr>\n",
              "      <th>Martínez de la Riva</th>\n",
              "      <td>2787</td>\n",
              "      <td>1827.818182</td>\n",
              "    </tr>\n",
              "    <tr>\n",
              "      <th>Infanta Mercedes</th>\n",
              "      <td>1724</td>\n",
              "      <td>1827.818182</td>\n",
              "    </tr>\n",
              "    <tr>\n",
              "      <th>Justicia</th>\n",
              "      <td>2129</td>\n",
              "      <td>1827.818182</td>\n",
              "    </tr>\n",
              "    <tr>\n",
              "      <th>San Isidro</th>\n",
              "      <td>2496</td>\n",
              "      <td>2540.200000</td>\n",
              "    </tr>\n",
              "    <tr>\n",
              "      <th>Comillas</th>\n",
              "      <td>3049</td>\n",
              "      <td>3221.250000</td>\n",
              "    </tr>\n",
              "  </tbody>\n",
              "</table>\n",
              "</div>"
            ],
            "text/plain": [
              "                     Casos   prediccion\n",
              "Zona Básica Salud                      \n",
              "Alcocer               2331  2540.200000\n",
              "Virgen del Cortijo    1875  1827.818182\n",
              "Pavones               2164  1827.818182\n",
              "La Elipa              1948  1827.818182\n",
              "Legazpi               3210  3860.240000\n",
              "Martínez de la Riva   2787  1827.818182\n",
              "Infanta Mercedes      1724  1827.818182\n",
              "Justicia              2129  1827.818182\n",
              "San Isidro            2496  2540.200000\n",
              "Comillas              3049  3221.250000"
            ]
          },
          "metadata": {
            "tags": []
          },
          "execution_count": 93
        }
      ]
    },
    {
      "cell_type": "code",
      "metadata": {
        "colab": {
          "base_uri": "https://localhost:8080/"
        },
        "id": "7T5Gr3TCONTD",
        "outputId": "55e6e9cb-7101-4e48-944a-f7ea333f3b8e"
      },
      "source": [
        "rmse_3 = mean_squared_error(\n",
        "        y_true = y_test,\n",
        "        y_pred = predicciones_3,\n",
        "        squared = False\n",
        "       )\n",
        "rmse_3"
      ],
      "execution_count": null,
      "outputs": [
        {
          "output_type": "execute_result",
          "data": {
            "text/plain": [
              "402.17136038510546"
            ]
          },
          "metadata": {
            "tags": []
          },
          "execution_count": 75
        }
      ]
    },
    {
      "cell_type": "markdown",
      "metadata": {
        "id": "DmQR5fKKOHmr"
      },
      "source": [
        "## Gradient Boost"
      ]
    },
    {
      "cell_type": "code",
      "metadata": {
        "id": "JKCHCxApOI5L"
      },
      "source": [
        "#Creación modelo\n",
        "\n",
        "modelo_4 = GradientBoostingRegressor()"
      ],
      "execution_count": null,
      "outputs": []
    },
    {
      "cell_type": "code",
      "metadata": {
        "id": "ztxZC5p5RI7j"
      },
      "source": [
        "#Búsqueda mejores hiperparámetros\n",
        "\n",
        "grid_param_4 = {\n",
        "    'loss': ['ls', 'lad','huber','quantile'],\n",
        "    'n_estimators': [50, 100, 300],\n",
        "    'criterion': ['friedman_mse', 'mse', 'mae']\n",
        "}\n",
        "\n",
        "#Model Grid para variables continuas\n",
        "\n",
        "model_grid_4 = GridSearchCV(estimator=modelo_4,\n",
        "                     param_grid=grid_param_4,\n",
        "                     scoring='neg_root_mean_squared_error',\n",
        "                     n_jobs     = multiprocessing.cpu_count() - 1,\n",
        "                     cv=RepeatedKFold(n_splits = 5, n_repeats = 5),\n",
        "                     verbose = 0\n",
        "                     )"
      ],
      "execution_count": null,
      "outputs": []
    },
    {
      "cell_type": "code",
      "metadata": {
        "colab": {
          "base_uri": "https://localhost:8080/"
        },
        "id": "qxWzW8L3RuFk",
        "outputId": "6d091356-16c9-4f0a-d02a-c1125ea6dc50"
      },
      "source": [
        "model_grid_4.fit(X_train, y_train)\n",
        "\n",
        "print(model_grid_4.best_params_)"
      ],
      "execution_count": null,
      "outputs": [
        {
          "output_type": "stream",
          "text": [
            "{'criterion': 'mse', 'loss': 'huber', 'n_estimators': 300}\n"
          ],
          "name": "stdout"
        }
      ]
    },
    {
      "cell_type": "code",
      "metadata": {
        "colab": {
          "base_uri": "https://localhost:8080/",
          "height": 381
        },
        "id": "i0WZ98W0RxVl",
        "outputId": "549282b4-9239-499f-efba-688067b0b159"
      },
      "source": [
        "#Modelo final ganador\n",
        "modelofinal_4 = GradientBoostingRegressor(n_estimators=300, criterion='mse', loss='huber').fit(X_train, y_train)\n",
        "\n",
        "predicciones_4 = modelofinal_4.predict(X_test)\n",
        "\n",
        "# Se crea un dataframe con las predicciones y el valor real\n",
        "df_predicciones_4 = pd.DataFrame({'Casos' : y_test, 'prediccion' : predicciones_4})\n",
        "df_predicciones_4.head(10)"
      ],
      "execution_count": null,
      "outputs": [
        {
          "output_type": "execute_result",
          "data": {
            "text/html": [
              "<div>\n",
              "<style scoped>\n",
              "    .dataframe tbody tr th:only-of-type {\n",
              "        vertical-align: middle;\n",
              "    }\n",
              "\n",
              "    .dataframe tbody tr th {\n",
              "        vertical-align: top;\n",
              "    }\n",
              "\n",
              "    .dataframe thead th {\n",
              "        text-align: right;\n",
              "    }\n",
              "</style>\n",
              "<table border=\"1\" class=\"dataframe\">\n",
              "  <thead>\n",
              "    <tr style=\"text-align: right;\">\n",
              "      <th></th>\n",
              "      <th>Casos</th>\n",
              "      <th>prediccion</th>\n",
              "    </tr>\n",
              "    <tr>\n",
              "      <th>Zona Básica Salud</th>\n",
              "      <th></th>\n",
              "      <th></th>\n",
              "    </tr>\n",
              "  </thead>\n",
              "  <tbody>\n",
              "    <tr>\n",
              "      <th>Alcocer</th>\n",
              "      <td>2331</td>\n",
              "      <td>2208.345384</td>\n",
              "    </tr>\n",
              "    <tr>\n",
              "      <th>Virgen del Cortijo</th>\n",
              "      <td>1875</td>\n",
              "      <td>1725.604904</td>\n",
              "    </tr>\n",
              "    <tr>\n",
              "      <th>Pavones</th>\n",
              "      <td>2164</td>\n",
              "      <td>2120.968458</td>\n",
              "    </tr>\n",
              "    <tr>\n",
              "      <th>La Elipa</th>\n",
              "      <td>1948</td>\n",
              "      <td>1840.809934</td>\n",
              "    </tr>\n",
              "    <tr>\n",
              "      <th>Legazpi</th>\n",
              "      <td>3210</td>\n",
              "      <td>3734.092637</td>\n",
              "    </tr>\n",
              "    <tr>\n",
              "      <th>Martínez de la Riva</th>\n",
              "      <td>2787</td>\n",
              "      <td>2618.752558</td>\n",
              "    </tr>\n",
              "    <tr>\n",
              "      <th>Infanta Mercedes</th>\n",
              "      <td>1724</td>\n",
              "      <td>1885.838495</td>\n",
              "    </tr>\n",
              "    <tr>\n",
              "      <th>Justicia</th>\n",
              "      <td>2129</td>\n",
              "      <td>1863.264988</td>\n",
              "    </tr>\n",
              "    <tr>\n",
              "      <th>San Isidro</th>\n",
              "      <td>2496</td>\n",
              "      <td>2363.876828</td>\n",
              "    </tr>\n",
              "    <tr>\n",
              "      <th>Comillas</th>\n",
              "      <td>3049</td>\n",
              "      <td>3104.954633</td>\n",
              "    </tr>\n",
              "  </tbody>\n",
              "</table>\n",
              "</div>"
            ],
            "text/plain": [
              "                     Casos   prediccion\n",
              "Zona Básica Salud                      \n",
              "Alcocer               2331  2208.345384\n",
              "Virgen del Cortijo    1875  1725.604904\n",
              "Pavones               2164  2120.968458\n",
              "La Elipa              1948  1840.809934\n",
              "Legazpi               3210  3734.092637\n",
              "Martínez de la Riva   2787  2618.752558\n",
              "Infanta Mercedes      1724  1885.838495\n",
              "Justicia              2129  1863.264988\n",
              "San Isidro            2496  2363.876828\n",
              "Comillas              3049  3104.954633"
            ]
          },
          "metadata": {
            "tags": []
          },
          "execution_count": 94
        }
      ]
    },
    {
      "cell_type": "code",
      "metadata": {
        "colab": {
          "base_uri": "https://localhost:8080/"
        },
        "id": "EqGvU9bQTsh3",
        "outputId": "cc8b9da6-0020-40d9-c9e3-474994ca11e7"
      },
      "source": [
        "rmse_4 = mean_squared_error(\n",
        "        y_true = y_test,\n",
        "        y_pred = predicciones_4,\n",
        "        squared = False\n",
        "       )\n",
        "rmse_4"
      ],
      "execution_count": null,
      "outputs": [
        {
          "output_type": "execute_result",
          "data": {
            "text/plain": [
              "302.04221851435545"
            ]
          },
          "metadata": {
            "tags": []
          },
          "execution_count": 80
        }
      ]
    },
    {
      "cell_type": "markdown",
      "metadata": {
        "id": "eO0A3camTuql"
      },
      "source": [
        "## ARD Regression\n",
        "\n"
      ]
    },
    {
      "cell_type": "code",
      "metadata": {
        "id": "ZZBVyaqeTyi8"
      },
      "source": [
        "#Creación modelo\n",
        "\n",
        "modelo_5 = linear_model.ARDRegression()"
      ],
      "execution_count": null,
      "outputs": []
    },
    {
      "cell_type": "code",
      "metadata": {
        "id": "nFM-a8fjUEZL"
      },
      "source": [
        "#Búsqueda mejores hiperparámetros\n",
        "\n",
        "grid_param_5 = {\n",
        "    'alpha_1': [1e-6, 1e-3],\n",
        "    'alpha_2': [1e-6, 1e-3],\n",
        "    'n_iter': [100, 300, 700],\n",
        "    'threshold_lambda': [5000,10000,15000]\n",
        "}\n",
        "#Model Grid para variables continuas\n",
        "\n",
        "model_grid_5 = GridSearchCV(estimator=modelo_5,\n",
        "                     param_grid=grid_param_5,\n",
        "                     scoring='neg_root_mean_squared_error',\n",
        "                     n_jobs     = multiprocessing.cpu_count() - 1,\n",
        "                     cv=RepeatedKFold(n_splits = 5, n_repeats = 5),\n",
        "                     verbose = 0\n",
        "                     )"
      ],
      "execution_count": null,
      "outputs": []
    },
    {
      "cell_type": "code",
      "metadata": {
        "colab": {
          "base_uri": "https://localhost:8080/"
        },
        "id": "1XnRrnXGVJBG",
        "outputId": "25113727-9060-4a56-8539-3b34c0009756"
      },
      "source": [
        "model_grid_5.fit(X_train, y_train)\n",
        "\n",
        "print(model_grid_5.best_params_)"
      ],
      "execution_count": null,
      "outputs": [
        {
          "output_type": "stream",
          "text": [
            "{'alpha_1': 1e-06, 'alpha_2': 1e-06, 'n_iter': 300, 'threshold_lambda': 5000}\n"
          ],
          "name": "stdout"
        }
      ]
    },
    {
      "cell_type": "code",
      "metadata": {
        "colab": {
          "base_uri": "https://localhost:8080/",
          "height": 381
        },
        "id": "TjVkD2O0VMEs",
        "outputId": "0f31a075-3f5f-4265-c7bf-935f0a30f9a1"
      },
      "source": [
        "#Modelo final ganador\n",
        "modelofinal_5 = linear_model.ARDRegression(alpha_1=1e-06, alpha_2=1e-06, n_iter=300, threshold_lambda=5000).fit(X_train, y_train)\n",
        "\n",
        "predicciones_5 = modelofinal_5.predict(X_test)\n",
        "\n",
        "# Se crea un dataframe con las predicciones y el valor real\n",
        "df_predicciones_5 = pd.DataFrame({'Casos' : y_test, 'prediccion' : predicciones_5})\n",
        "df_predicciones_5.head(10)"
      ],
      "execution_count": null,
      "outputs": [
        {
          "output_type": "execute_result",
          "data": {
            "text/html": [
              "<div>\n",
              "<style scoped>\n",
              "    .dataframe tbody tr th:only-of-type {\n",
              "        vertical-align: middle;\n",
              "    }\n",
              "\n",
              "    .dataframe tbody tr th {\n",
              "        vertical-align: top;\n",
              "    }\n",
              "\n",
              "    .dataframe thead th {\n",
              "        text-align: right;\n",
              "    }\n",
              "</style>\n",
              "<table border=\"1\" class=\"dataframe\">\n",
              "  <thead>\n",
              "    <tr style=\"text-align: right;\">\n",
              "      <th></th>\n",
              "      <th>Casos</th>\n",
              "      <th>prediccion</th>\n",
              "    </tr>\n",
              "    <tr>\n",
              "      <th>Zona Básica Salud</th>\n",
              "      <th></th>\n",
              "      <th></th>\n",
              "    </tr>\n",
              "  </thead>\n",
              "  <tbody>\n",
              "    <tr>\n",
              "      <th>Alcocer</th>\n",
              "      <td>2331</td>\n",
              "      <td>2225.324302</td>\n",
              "    </tr>\n",
              "    <tr>\n",
              "      <th>Virgen del Cortijo</th>\n",
              "      <td>1875</td>\n",
              "      <td>1841.725384</td>\n",
              "    </tr>\n",
              "    <tr>\n",
              "      <th>Pavones</th>\n",
              "      <td>2164</td>\n",
              "      <td>2095.908487</td>\n",
              "    </tr>\n",
              "    <tr>\n",
              "      <th>La Elipa</th>\n",
              "      <td>1948</td>\n",
              "      <td>1819.952830</td>\n",
              "    </tr>\n",
              "    <tr>\n",
              "      <th>Legazpi</th>\n",
              "      <td>3210</td>\n",
              "      <td>3548.744930</td>\n",
              "    </tr>\n",
              "    <tr>\n",
              "      <th>Martínez de la Riva</th>\n",
              "      <td>2787</td>\n",
              "      <td>2200.539496</td>\n",
              "    </tr>\n",
              "    <tr>\n",
              "      <th>Infanta Mercedes</th>\n",
              "      <td>1724</td>\n",
              "      <td>1892.421219</td>\n",
              "    </tr>\n",
              "    <tr>\n",
              "      <th>Justicia</th>\n",
              "      <td>2129</td>\n",
              "      <td>1996.239038</td>\n",
              "    </tr>\n",
              "    <tr>\n",
              "      <th>San Isidro</th>\n",
              "      <td>2496</td>\n",
              "      <td>2301.294558</td>\n",
              "    </tr>\n",
              "    <tr>\n",
              "      <th>Comillas</th>\n",
              "      <td>3049</td>\n",
              "      <td>2945.556019</td>\n",
              "    </tr>\n",
              "  </tbody>\n",
              "</table>\n",
              "</div>"
            ],
            "text/plain": [
              "                     Casos   prediccion\n",
              "Zona Básica Salud                      \n",
              "Alcocer               2331  2225.324302\n",
              "Virgen del Cortijo    1875  1841.725384\n",
              "Pavones               2164  2095.908487\n",
              "La Elipa              1948  1819.952830\n",
              "Legazpi               3210  3548.744930\n",
              "Martínez de la Riva   2787  2200.539496\n",
              "Infanta Mercedes      1724  1892.421219\n",
              "Justicia              2129  1996.239038\n",
              "San Isidro            2496  2301.294558\n",
              "Comillas              3049  2945.556019"
            ]
          },
          "metadata": {
            "tags": []
          },
          "execution_count": 95
        }
      ]
    },
    {
      "cell_type": "code",
      "metadata": {
        "colab": {
          "base_uri": "https://localhost:8080/"
        },
        "id": "0THPGrPGWfYu",
        "outputId": "b31d0061-20b7-4558-8bc6-a1995af19c12"
      },
      "source": [
        "rmse_5 = mean_squared_error(\n",
        "        y_true = y_test,\n",
        "        y_pred = predicciones_5,\n",
        "        squared = False\n",
        "       )\n",
        "rmse_5"
      ],
      "execution_count": null,
      "outputs": [
        {
          "output_type": "execute_result",
          "data": {
            "text/plain": [
              "363.5783234625709"
            ]
          },
          "metadata": {
            "tags": []
          },
          "execution_count": 85
        }
      ]
    },
    {
      "cell_type": "markdown",
      "metadata": {
        "id": "xEneG4ofXIof"
      },
      "source": [
        "## Resultados"
      ]
    },
    {
      "cell_type": "markdown",
      "metadata": {
        "id": "SpPbwS_nXpRI"
      },
      "source": [
        "Tras haber realizado predicciones con los diferentes modelos, veamos cuál es el que método que menor error calcula."
      ]
    },
    {
      "cell_type": "code",
      "metadata": {
        "colab": {
          "base_uri": "https://localhost:8080/"
        },
        "id": "kjXZHKzUdLfg",
        "outputId": "7b4bd343-8530-47ce-e725-000b2f0ecd69"
      },
      "source": [
        "print(['Regresión Lineal' , rmse_1])\n",
        "print(['Random Forest' , rmse_2])\n",
        "print(['Decision Tree' , rmse_3])\n",
        "print(['Gradient Boost' , rmse_4])\n",
        "print(['ARD' , rmse_5])"
      ],
      "execution_count": null,
      "outputs": [
        {
          "output_type": "stream",
          "text": [
            "['Regresión Lineal', 364.60281407665434]\n",
            "['Random Forest', 320.6596688293142]\n",
            "['Decision Tree', 402.17136038510546]\n",
            "['Gradient Boost', 302.04221851435545]\n",
            "['ARD', 363.5783234625709]\n"
          ],
          "name": "stdout"
        }
      ]
    },
    {
      "cell_type": "markdown",
      "metadata": {
        "id": "syhQZ5Yrfw_U"
      },
      "source": [
        "Entre todos los modelos el mejor es el Gradient Boost. Se selecciona este método como método que mejor predice. Los resultados se exportan en un .csv"
      ]
    },
    {
      "cell_type": "code",
      "metadata": {
        "id": "4zwRt1dUy5aU"
      },
      "source": [
        "df_predicciones_4.to_csv ('Predicciones.csv', header=True)"
      ],
      "execution_count": null,
      "outputs": []
    },
    {
      "cell_type": "markdown",
      "metadata": {
        "id": "KOACwry8lTwn"
      },
      "source": [
        "Como se mencionaba previamente en el apartado de Clustering, los resultados obtenidos y las principales conclusiones que se obtienen se discuten en la memoria final del TFM."
      ]
    }
  ]
}